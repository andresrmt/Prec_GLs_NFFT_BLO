{
 "cells": [
  {
   "cell_type": "code",
   "execution_count": 1,
   "id": "417a5aef",
   "metadata": {
    "code_folding": [
     0
    ],
    "deletable": false,
    "editable": false,
    "run_control": {
     "frozen": true
    }
   },
   "outputs": [
    {
     "data": {
      "text/html": [
       "<style>.container { width:90% !important; }</style>"
      ],
      "text/plain": [
       "<IPython.core.display.HTML object>"
      ]
     },
     "metadata": {},
     "output_type": "display_data"
    },
    {
     "data": {
      "text/html": [
       "<style>.output_result { width:90% !important; }</style>"
      ],
      "text/plain": [
       "<IPython.core.display.HTML object>"
      ]
     },
     "metadata": {},
     "output_type": "display_data"
    }
   ],
   "source": [
    "# Window\n",
    "from IPython.display import display, HTML\n",
    "display(HTML(\"<style>.container { width:90% !important; }</style>\"))\n",
    "display(HTML(\"<style>.output_result { width:90% !important; }</style>\"))"
   ]
  },
  {
   "cell_type": "markdown",
   "id": "81f709a5",
   "metadata": {},
   "source": [
    "# Study of Nonlocal Misfit Scalar Regularization Parameter $\\lambda$ System"
   ]
  },
  {
   "cell_type": "markdown",
   "id": "6a8add14",
   "metadata": {},
   "source": [
    "<div class=\"alert alert-block alert-danger\">\n",
    "These notebooks are better visualized using codefolding from Jupyter \n",
    "    <a href=\"https://jupyter-contrib-nbextensions.readthedocs.io/en/latest/\">extensions</a>.\n",
    "</div>"
   ]
  },
  {
   "cell_type": "code",
   "execution_count": 1,
   "id": "9b7e4c92",
   "metadata": {
    "code_folding": [
     0
    ]
   },
   "outputs": [],
   "source": [
    "# Packages\n",
    "import numpy as np\n",
    "import scipy.sparse as sparse\n",
    "\n",
    "import numba\n",
    "from   numba import jit\n",
    "\n",
    "import time\n",
    "import itertools\n",
    "\n",
    "#import imageio\n",
    "#from   skimage.transform import resize\n",
    "from   skimage.metrics   import structural_similarity as ssim\n",
    "import warnings\n",
    "warnings.filterwarnings(\"ignore\")\n",
    "\n",
    "\n",
    "%matplotlib inline\n",
    "import matplotlib.pyplot as plt\n",
    "from   matplotlib    import ticker\n",
    "\n",
    "import skimage.io    as io\n",
    "import skimage.color as color\n",
    "from   skimage              import data_dir\n",
    "from   skimage.transform    import resize\n",
    "from   mpl_toolkits.mplot3d import Axes3D\n",
    "from   matplotlib           import cm\n",
    "from   matplotlib.ticker    import LinearLocator, FormatStrFormatter, MultipleLocator"
   ]
  },
  {
   "cell_type": "markdown",
   "id": "db30f7b7",
   "metadata": {},
   "source": [
    "<div class=\"alert alert-block alert-success\">\n",
    "We study the following scalar nonlocal bilevel problem:\n",
    "\\begin{align*}\n",
    "        &\\min \\dfrac{1}{2} \\|u-u^T\\|^2_{0,\\Omega} =: f(\\lambda)\n",
    "    \\\\\n",
    "    \\text{subject to}\\qquad\n",
    "    \\\\\n",
    "        & (u,\\phi)_V + \\big( \\lambda(u-f), \\phi \\big) = 0, &\\forall \\phi \\in V.\n",
    "\\end{align*}\n",
    "</div>"
   ]
  },
  {
   "cell_type": "markdown",
   "id": "5ca3aed9",
   "metadata": {},
   "source": [
    "$\\DeclareMathOperator{\\AK}{\\mathrm{AK}_\\sigma}$\n",
    "The nonlocal product $(u,\\phi)_V$ is defined as\n",
    "\\begin{align}\n",
    "    (u,\\phi)_V = ( u \\AK \\mathbb{1} - \\AK u, \\phi )_{L^2(\\Omega)}.\n",
    "\\end{align}\n",
    "Here $\\AK$ represents the unnormalised _extended Gaussian ANOVA kernel_, which in turn is given by:\n",
    "\\begin{align}\n",
    "    \\AK u (x) = \\sum_{\\ell=1}^L \\frac{1}{L} \\int_\\Omega u(y)\\, e^{-\\sigma^{-2} \\big\\| \\mathcal{W}_\\ell [f](x) - \\mathcal{W}_\\ell [f](y) \\big\\|^2}  \\mathrm{d}y,\n",
    "\\end{align}\n",
    "where $\\sigma$ is a shape parameter, $L$ is the number of kernels to combine, and $\\mathcal{W}_\\ell = \\{ w_1^\\ell, w_2^\\ell, w_3^\\ell \\} \\in \\{ 1, \\dots, d \\}^3$ are patches of features, so that $\\mathcal{W}_\\ell [f](x)$ and $\\mathcal{W}_\\ell [f](y)$ are the data points restricted to the corresponding features. \n",
    "The normalised version of this kernel is given by the quotient $\\AK u / \\AK \\mathbb{1}$. In this notebook we will explore the use of the nonequispaced spherical transform to compute $\\AK u$ and its use for image denoising tasks.\n",
    "We have a weighted sum of multiple kernels, where every kernel relies on not more than 3 features and, thus, we can apply the NFFT-based fast summation approach and use the [`fastadj`](https://github.com/dominikalfke/FastAdjacency) package by Dominik Alfke to speed up the kernel-vector multiplication.\n",
    "\n",
    "The nonequispaced Gauss transform computes, for a given $d$-dimensional *point cloud* of $n$ points $x_i \\in \\mathbb{R}^d$, $i=1,\\ldots,n$, the action of the operator\n",
    "\\begin{align}\n",
    "A = (a_{ij})_{i,j=1}^n \\in \\mathbb{R}^{n \\times n}, \\qquad A_{ij} = \\exp\\left(\\frac{-\\|x_i - x_j\\|^2}{\\sigma^2}\\right).\n",
    "\\end{align}"
   ]
  },
  {
   "cell_type": "markdown",
   "id": "549522ed",
   "metadata": {},
   "source": [
    "We will apply the extended Gaussian ANOVA toolkit [`nfft4anova`](https://github.com/wagnertheresa/NFFT4ANOVA) by Theresa Wagner to determine $L$ and the feature patches $\\mathcal{W}_\\ell [f]$."
   ]
  },
  {
   "cell_type": "code",
   "execution_count": 2,
   "id": "6915409c",
   "metadata": {},
   "outputs": [],
   "source": [
    "import fastadj"
   ]
  },
  {
   "cell_type": "code",
   "execution_count": 3,
   "id": "d57292c4",
   "metadata": {
    "code_folding": [
     0
    ]
   },
   "outputs": [],
   "source": [
    "# Local packages\n",
    "from sys import path\n",
    "path.insert(0, 'NFFT4ANOVA/nfft4anova')\n",
    "from nfft_kernel_ridge import NFFTKernelRidge        # extended Gaussian ANOVA computation toolbox"
   ]
  },
  {
   "cell_type": "code",
   "execution_count": 4,
   "id": "20d0a61d",
   "metadata": {
    "code_folding": [
     0
    ]
   },
   "outputs": [],
   "source": [
    "# Aliases\n",
    "from scipy.sparse.linalg import LinearOperator, minres\n",
    "from scipy.sparse        import csr_matrix\n",
    "from scipy.optimize      import Bounds, minimize\n",
    "from scipy.stats         import describe\n",
    "from pandas              import DataFrame\n",
    "\n",
    "# Numpy aliases\n",
    "from numpy import linspace, pad, broadcast_to\n",
    "from numpy.lib.stride_tricks import sliding_window_view\n",
    "\n",
    "from numpy        import asarray, logspace, sqrt, clip, around, array, square, ravel, empty, meshgrid\n",
    "from numpy        import multiply, add, reciprocal, subtract, empty_like, stack, arange\n",
    "from numpy        import zeros, append, diagflat, triu, tril, logical_and, where, ones, minimum, allclose\n",
    "from numpy.linalg import inv, norm\n",
    "from numpy.random import default_rng\n",
    "lsolver     = sparse.linalg.lgmres"
   ]
  },
  {
   "cell_type": "code",
   "execution_count": 5,
   "id": "0d8c9064",
   "metadata": {
    "code_folding": [
     0
    ]
   },
   "outputs": [],
   "source": [
    "# More alisases\n",
    "from sklearn.metrics.pairwise import rbf_kernel\n",
    "from skimage                  import data\n",
    "from skimage.transform        import rescale\n",
    "from imageio                  import imwrite, imread\n",
    "\n",
    "from IPython.display          import Latex\n",
    "\n",
    "from scipy.sparse.linalg      import eigsh, eigs\n",
    "from scipy.linalg             import eigvals, eigvalsh, svdvals\n",
    "from scipy.spatial.distance   import cdist\n",
    "from scipy.optimize           import curve_fit\n",
    "from numpy.lib.stride_tricks  import as_strided"
   ]
  },
  {
   "cell_type": "markdown",
   "id": "4dcb7550",
   "metadata": {},
   "source": [
    "<div class=\"alert alert-block alert-info\">\n",
    "We load one image from the data set.\n",
    "</div>"
   ]
  },
  {
   "cell_type": "code",
   "execution_count": 6,
   "id": "da7fe2ae",
   "metadata": {},
   "outputs": [],
   "source": [
    "images = { 1:'lena',  2:'baboon', 3:'fprint3', 4:'cameraman', 5:'monarch', \n",
    "           6:'sails', 7:'fruits', 8:'peppers', 9:'mountain', 10:'texmos3',\n",
    "          11:'zebra'}"
   ]
  },
  {
   "cell_type": "code",
   "execution_count": 7,
   "id": "7adc2ddf",
   "metadata": {},
   "outputs": [],
   "source": [
    "nume = 5                       # Selected image"
   ]
  },
  {
   "cell_type": "markdown",
   "id": "63d07e08",
   "metadata": {},
   "source": [
    "Once an image is selected, a new sub-data set is created with **five** new noisy images stored in list `noisy`."
   ]
  },
  {
   "cell_type": "code",
   "execution_count": 8,
   "id": "c5024f80",
   "metadata": {},
   "outputs": [],
   "source": [
    "image = data.cell()"
   ]
  },
  {
   "cell_type": "code",
   "execution_count": 9,
   "id": "2df87e24",
   "metadata": {},
   "outputs": [
    {
     "data": {
      "image/png": "[encoded data removed]",
      "text/plain": [
       "<Figure size 432x288 with 1 Axes>"
      ]
     },
     "metadata": {
      "needs_background": "light"
     },
     "output_type": "display_data"
    }
   ],
   "source": [
    "plt.imshow(image, cmap='gray');    plt.axis('off');    plt.show()"
   ]
  },
  {
   "cell_type": "code",
   "execution_count": 10,
   "id": "bc848c87",
   "metadata": {},
   "outputs": [],
   "source": [
    "image = 255*rescale(image, 0.1, anti_aliasing=True)"
   ]
  },
  {
   "cell_type": "markdown",
   "id": "4a43c903",
   "metadata": {},
   "source": [
    "We will loop over different image sizes and collect set-up time and operator time:"
   ]
  },
  {
   "cell_type": "code",
   "execution_count": 11,
   "id": "79308962",
   "metadata": {},
   "outputs": [],
   "source": [
    "Scales = np.logspace(-2,0.0,10)"
   ]
  },
  {
   "cell_type": "markdown",
   "id": "004613f3",
   "metadata": {},
   "source": [
    "Setup matrices and operators:"
   ]
  },
  {
   "cell_type": "code",
   "execution_count": 12,
   "id": "d3018ff3",
   "metadata": {
    "code_folding": [
     0,
     64,
     108
    ]
   },
   "outputs": [
    {
     "name": "stdout",
     "output_type": "stream",
     "text": [
      "66 55 3630\n",
      "    316.23 -> 0.29\n"
     ]
    }
   ],
   "source": [
    "# Scale image\n",
    "img = rescale(image, 1.0, anti_aliasing=True)\n",
    "img = asarray(img).astype(float, copy = False)\n",
    "N,M = img.shape\n",
    "nm  = img.size\n",
    "print(N,M,nm)\n",
    "\n",
    "# Create noisy sample\n",
    "## Fix seed\n",
    "rng = default_rng(10)\n",
    "σ_i = logspace(1,3,5)[3]\n",
    "f = rng.normal(0, sqrt(σ_i), img.shape);    f += img;    clip(f, 0.0, 255.0, out=f)\n",
    "print('{0:10} -> {1}'.format( around(σ_i,2), around(ssim(img, f, data_range=f.max()-f.min() ),2)  ))\n",
    "\n",
    "# Patch radius\n",
    "ρ = 5\n",
    "\n",
    "\n",
    "'''\n",
    "    Kernel Setup\n",
    "'''\n",
    "def SSIM(img,u, N,M):  return ssim(img, u.reshape(N,M), data_range=u.max()-u.min())\n",
    "\n",
    "\n",
    "clf = NFFTKernelRidge(sigma=1.0, norm = None, setup = 'default')\n",
    "ρ̂    = 2*ρ+1\n",
    "\n",
    "\"\"\"Patches\"\"\"\n",
    "Fᵖᵃᵈ = pad(f, ρ, mode='constant')\n",
    "X = sliding_window_view(Fᵖᵃᵈ, (ρ̂,ρ̂)).reshape(nm, ρ̂**2)\n",
    "\n",
    "'''Build windows'''\n",
    "window_scheme = 'mis'\n",
    "# determine windows of features by their mis\n",
    "if window_scheme == 'mis':\n",
    "    res_idx = clf.make_mi_scores(X, around(f).astype(int).ravel())\n",
    "    windows = clf.get_mis_windows(res_idx)\n",
    "\n",
    "# windows are built following the feature indices in ascending order\n",
    "elif window_scheme == 'consec':\n",
    "    d    = X.shape[1]\n",
    "    windows = [list(range((l*3),(l*3) + 3)) for l in range(d//3)]\n",
    "\n",
    "    # if |d| is not divisible by 3, the last window contains only 1 or 2 indices\n",
    "    if d%3 != 0:    windows.append( [l for l in range(d - d%3, d)] )\n",
    "\n",
    "# use predefined list of windows of features\n",
    "elif window_scheme == None:\n",
    "    windows = pre_list\n",
    "\n",
    "num_windows = len(windows)\n",
    "\n",
    "'''Weights'''\n",
    "# Select weight creation mode\n",
    "weight_scheme = 'equally weighted'\n",
    "\n",
    "# Compute kernel weights: equal weights that sup up to 1 or no weighting:\n",
    "k_weight = 1.0/num_windows if weight_scheme == 'equally weighted' else 1.0\n",
    "\n",
    "# Store weights efficiently as a view\n",
    "weights = broadcast_to(k_weight, (num_windows, ))\n",
    "\n",
    "\n",
    "'''Kernel as abstract object'''\n",
    "def W(σ, n = 64, m = 8, p = 8, Other_Setup = None):\n",
    "    '''\n",
    "    Set up the subkernel matrices that constitute the extended Gaussian ANOVA kernel\n",
    "\n",
    "    Note\n",
    "    ----\n",
    "    Using the NFFT-approach, the kernel matrices are never computed explicitly.\n",
    "\n",
    "    Parameters\n",
    "    ----------\n",
    "    X : ndarray\n",
    "        The training data matrix.\n",
    "    σ : float\n",
    "        Shape of the kernel.\n",
    "    n : even int\n",
    "        The NFFT expansion degree.\n",
    "    m : int ≤ max(N,M)\n",
    "        Window cutoff.\n",
    "    p : int\n",
    "        Smoothness of the window function.\n",
    "\n",
    "    Returns\n",
    "    -------\n",
    "    SubKernels : list of fastadj.AdjacencyMatrix\n",
    "        Subkernel matrices for each window of features according to the selected window scheme.\n",
    "    '''\n",
    "\n",
    "    # Bound on window cutoff [Lemma 3.4]\n",
    "    if n < max([4*m,12]):\n",
    "        print('Changing n = {} to {}'.format(n, max([4*m,12])))\n",
    "        n = max([4*m,12])\n",
    "\n",
    "    # Setup approximation parameters\n",
    "    NFFT_setup = fastadj.AccuracySetup(n,m,p,0,0)   if Other_Setup is None else   Other_Setup\n",
    "\n",
    "    # Set diagonal → 1, since FastAdjacency package is targeted at graph Laplacian with zeros at the diagonal\n",
    "    # but we need 1 at the diagonal\n",
    "    return [fastadj.AdjacencyMatrix(X[:,windows[l]], σ, NFFT_setup, 1.0) for l in range(num_windows)]\n",
    "σ = 30.0\n",
    "\n",
    "\n",
    "SubKernels = W(σ, Other_Setup = 'default')\n",
    "\n",
    "\n",
    "def AK(u):\n",
    "    \"\"\"\n",
    "    Approximate the matrix-vector product AK*u, where AK = w_1*K_1 + w_2*K_2 + ... + w_L*K_L.\n",
    "\n",
    "    Note\n",
    "    ----\n",
    "    Since this function serves a LinearOperator from scipy, only one variable can be passed as input parameter.\n",
    "    Any other variable needed has to be global, so that they can still be used within this function\n",
    "\n",
    "    Parameters\n",
    "    ----------\n",
    "    u : ndarray\n",
    "        The vector, whose product AK*u with the matrix AK shall be approximated.\n",
    "\n",
    "    Returns\n",
    "    -------\n",
    "    AKu : ndarray\n",
    "        The approximated matrix-vector product AK*u.\n",
    "    \"\"\"\n",
    "\n",
    "    # Apply matrix-vector multiplication\n",
    "    subKernelProducts = asarray([SubKernels[l].apply(u) for l in range(num_windows)])\n",
    "\n",
    "    # Multiply each subKernel by its weight and collect into a sum\n",
    "    AKu = weights.dot(subKernelProducts)\n",
    "\n",
    "    return AKu\n",
    "\n",
    "Kernel = LinearOperator(shape = (nm,nm), matvec = (AK), rmatvec = (AK))\n",
    "\n",
    "\n",
    "'''Kernel as an explicit object'''\n",
    "def Full_W(σ):\n",
    "    # Notice that the diagonal is 1\n",
    "    B = np.zeros([nm,nm])\n",
    "    for l in range(num_windows):\n",
    "        B += rbf_kernel(X[:,windows[l]], gamma = (σ**-2) )\n",
    "    B *= k_weight\n",
    "    return B\n",
    "\n",
    "if nm < 8670:\n",
    "    ANOVA = Full_W(σ)\n",
    "\n",
    "# Define rhs\n",
    "u = f.ravel()/nm"
   ]
  },
  {
   "cell_type": "markdown",
   "id": "b7afe546",
   "metadata": {},
   "source": [
    "---"
   ]
  },
  {
   "cell_type": "code",
   "execution_count": 13,
   "id": "5aec6a70",
   "metadata": {},
   "outputs": [],
   "source": [
    "# Set weight\n",
    "μ = 2e-2"
   ]
  },
  {
   "cell_type": "code",
   "execution_count": 14,
   "id": "d8245af8",
   "metadata": {},
   "outputs": [],
   "source": [
    "λ = 10.0\n",
    "η = Kernel( ones(nm) )"
   ]
  },
  {
   "cell_type": "code",
   "execution_count": 15,
   "id": "aa8b6b71",
   "metadata": {},
   "outputs": [],
   "source": [
    "def matvec(v):       return μ * (η * v - Kernel(v)) + λ * v\n",
    "A = LinearOperator((nm,nm), dtype=np.float64, matvec=matvec, rmatvec=matvec)"
   ]
  },
  {
   "cell_type": "code",
   "execution_count": 16,
   "id": "f45bfd94",
   "metadata": {},
   "outputs": [],
   "source": [
    "# Previous lower bound:   σᴸ = abs(f.max() - f.min())/(710**0.5)\n",
    "fᵂ = [norm(X[:, windows[l]].max(0) - X[:, windows[l]].min(0)) for l in range(num_windows)]\n",
    "σᴸ = max(fᵂ)/(710**0.5)\n",
    "# Previous upper bound:   σᵁ = abs(f.max() - f.min()) * 1e-1\n",
    "σᵁ = min(fᵂ) * 1e+5"
   ]
  },
  {
   "cell_type": "code",
   "execution_count": 17,
   "id": "de60b07d",
   "metadata": {},
   "outputs": [
    {
     "name": "stdout",
     "output_type": "stream",
     "text": [
      "Suggested range for σ: [16.27347274188335, 25035068.717526518]\n"
     ]
    }
   ],
   "source": [
    "print('Suggested range for σ: {}'.format([σᴸ, σᵁ]))"
   ]
  },
  {
   "cell_type": "code",
   "execution_count": 18,
   "id": "1ef48d0a",
   "metadata": {},
   "outputs": [
    {
     "data": {
      "text/plain": [
       "17.86593524842291"
      ]
     },
     "execution_count": 18,
     "metadata": {},
     "output_type": "execute_result"
    }
   ],
   "source": [
    "eigsh(μ*(np.diag(η) - ANOVA), k = 1, return_eigenvectors=False).item()"
   ]
  },
  {
   "cell_type": "markdown",
   "id": "9f05ce96",
   "metadata": {},
   "source": [
    "We will work with the explicit kernel in this notebook:"
   ]
  },
  {
   "cell_type": "code",
   "execution_count": 19,
   "id": "ab74a984",
   "metadata": {},
   "outputs": [],
   "source": [
    "η = ANOVA.dot( ones(nm) )"
   ]
  },
  {
   "cell_type": "code",
   "execution_count": 20,
   "id": "b79b492b",
   "metadata": {},
   "outputs": [],
   "source": [
    "def matvec(v):       return μ * (η * v - ANOVA.dot(v)) + λ * v\n",
    "A = LinearOperator((nm,nm), dtype=np.float64, matvec=matvec, rmatvec=matvec)"
   ]
  },
  {
   "cell_type": "code",
   "execution_count": 21,
   "id": "dd266e81",
   "metadata": {},
   "outputs": [],
   "source": [
    "def MV_Abs(v):       return μ * (η * v + ANOVA.dot(v)) + λ * v"
   ]
  },
  {
   "cell_type": "markdown",
   "id": "62a14ebe",
   "metadata": {},
   "source": [
    "# Leverage of $\\lambda$ using Löwner order"
   ]
  },
  {
   "cell_type": "markdown",
   "id": "a5eda7ea",
   "metadata": {},
   "source": [
    "From the spectral decomposition, we can wonder what happens to the full matrix if we apply either the eigen-vectors of the spectral decomposition of $A_{n,\\lambda,c}$ in their non-orthonormal form or with the unitary transformation that these generate."
   ]
  },
  {
   "cell_type": "code",
   "execution_count": 22,
   "id": "3f256e30",
   "metadata": {},
   "outputs": [],
   "source": [
    "del ANOVA\n",
    "# Setup Laplacian\n",
    "ANOVA = Full_W(35.0);    np.fill_diagonal(ANOVA, 0.0);    η = ANOVA.dot( ones(nm) )"
   ]
  },
  {
   "cell_type": "code",
   "execution_count": 23,
   "id": "320d0156",
   "metadata": {},
   "outputs": [
    {
     "data": {
      "text/latex": [
       "Spectral radius $\\rho(A) = $ 31.632910"
      ],
      "text/plain": [
       "<IPython.core.display.Latex object>"
      ]
     },
     "metadata": {},
     "output_type": "display_data"
    }
   ],
   "source": [
    "sr_a = eigsh(A, k = 1, return_eigenvectors=False).item()\n",
    "display( Latex(f'Spectral radius $\\\\rho(A) = $ ' + '{0:f}'.format( sr_a ) ) )"
   ]
  },
  {
   "cell_type": "markdown",
   "id": "3c427ce8",
   "metadata": {
    "heading_collapsed": true
   },
   "source": [
    "## Unitary transformation"
   ]
  },
  {
   "cell_type": "markdown",
   "id": "4ce7ab2c",
   "metadata": {
    "hidden": true
   },
   "source": [
    "Let's obtain $U^\\top A U$:"
   ]
  },
  {
   "cell_type": "code",
   "execution_count": 24,
   "id": "aa47731b",
   "metadata": {
    "hidden": true
   },
   "outputs": [],
   "source": [
    "λ = 0.0"
   ]
  },
  {
   "cell_type": "code",
   "execution_count": 25,
   "id": "9f31359e",
   "metadata": {
    "hidden": true
   },
   "outputs": [],
   "source": [
    "U = np.triu(ones([nm,nm]), 1)\n",
    "U[:,0] = 1.0\n",
    "U -= np.diag([0.0] + list(np.arange(1,nm)) ) \n",
    "#np.dot(U, np.diag( [ np.sqrt(1/nm) ] + list( sqrt( 1.0 / (np.arange(2,nm+1) * np.arange(1,nm))) ) ), out = U )\n",
    "U *= ( 1.0 / np.sqrt([nm] + list(np.arange(2,nm+1) * np.arange(1,nm))) )"
   ]
  },
  {
   "cell_type": "code",
   "execution_count": 26,
   "id": "075923e0",
   "metadata": {
    "hidden": true
   },
   "outputs": [],
   "source": [
    "U_t_A_U = (U.T).dot( np.diag(λ*ones(nm)) + μ * ( np.diag(η) - ANOVA ) ).dot(U)"
   ]
  },
  {
   "cell_type": "code",
   "execution_count": 27,
   "id": "17d0a696",
   "metadata": {
    "hidden": true
   },
   "outputs": [
    {
     "data": {
      "image/png": "[encoded data removed]",
      "text/plain": [
       "<Figure size 432x288 with 1 Axes>"
      ]
     },
     "metadata": {
      "needs_background": "light"
     },
     "output_type": "display_data"
    }
   ],
   "source": [
    "plt.spy(np.where(U_t_A_U < 0.0, 0.0, U_t_A_U));    plt.axis('off');    plt.show()"
   ]
  },
  {
   "cell_type": "code",
   "execution_count": 28,
   "id": "b8ab7ac4",
   "metadata": {
    "hidden": true
   },
   "outputs": [
    {
     "data": {
      "text/latex": [
       "Spectral radius $\\rho(U^\\top A \\, U) = $ 21.310851"
      ],
      "text/plain": [
       "<IPython.core.display.Latex object>"
      ]
     },
     "metadata": {},
     "output_type": "display_data"
    }
   ],
   "source": [
    "sr_utau = eigsh(U_t_A_U, k = 1, return_eigenvectors=False).item()  \n",
    "display( Latex(f'Spectral radius $\\\\rho(U^\\\\top A \\, U) = $ ' + '{0:f}'.format( sr_utau ) ) )"
   ]
  },
  {
   "cell_type": "markdown",
   "id": "7673e5ce",
   "metadata": {
    "hidden": true
   },
   "source": [
    "We observe that the spectral radius of this conjugated matrix is consistent with what was found earlier; i.e., numerical stability."
   ]
  },
  {
   "cell_type": "code",
   "execution_count": 29,
   "id": "ae3a3447",
   "metadata": {
    "hidden": true
   },
   "outputs": [
    {
     "name": "stdout",
     "output_type": "stream",
     "text": [
      "[[ 0.          0.          0.          0.        ]\n",
      " [ 0.          3.98082489 -0.21929584 -0.15512667]\n",
      " [ 0.         -0.21929584  5.02230495 -0.37168727]\n",
      " [ 0.         -0.15512667 -0.37168727  5.39626837]\n",
      " [ 0.         -0.1195857  -0.28760382 -0.23526532]\n",
      " [ 0.         -0.09810877 -0.234653   -0.19233927]]\n"
     ]
    }
   ],
   "source": [
    "print(np.where(abs(U_t_A_U[:6,:4]) <= 1e-15, 0.0, U_t_A_U[:6,:4]))"
   ]
  },
  {
   "cell_type": "code",
   "execution_count": 30,
   "id": "4875ed05",
   "metadata": {
    "hidden": true
   },
   "outputs": [
    {
     "name": "stdout",
     "output_type": "stream",
     "text": [
      "[0.         3.82821682 9.06573303 ... 2.5763639  2.55117767 2.45983289]\n"
     ]
    }
   ],
   "source": [
    "print(np.around(abs(U_t_A_U),10).sum(0) - np.around(abs(U_t_A_U),10).diagonal())"
   ]
  },
  {
   "cell_type": "code",
   "execution_count": 31,
   "id": "a509a654",
   "metadata": {
    "hidden": true
   },
   "outputs": [
    {
     "name": "stdout",
     "output_type": "stream",
     "text": [
      "[0.         3.98082489 5.02230495 ... 3.73324365 3.22410667 3.31916404]\n"
     ]
    }
   ],
   "source": [
    "print(np.around(abs(U_t_A_U),10).diagonal())"
   ]
  },
  {
   "cell_type": "markdown",
   "id": "46319633",
   "metadata": {
    "hidden": true
   },
   "source": [
    "The resulting matrix is still definite positive and, clearly, has the same spectrum as the original matrix and it is symmetric. However, it is no longer diagonally dominant."
   ]
  },
  {
   "cell_type": "markdown",
   "id": "bd43f350",
   "metadata": {
    "hidden": true
   },
   "source": [
    "Let's observe and compare the eigenvalues:"
   ]
  },
  {
   "cell_type": "code",
   "execution_count": 32,
   "id": "37a6872b",
   "metadata": {
    "hidden": true
   },
   "outputs": [],
   "source": [
    "# By definition, this matrix is symmetric\n",
    "start = time.time()\n",
    "#Whole_Spectrum = np.linalg.eigh(U_t_A_U)[0]\n",
    "Whole_Spectrum = eigvalsh(U_t_A_U, check_finite='false')\n",
    "end = time.time()"
   ]
  },
  {
   "cell_type": "code",
   "execution_count": 33,
   "id": "089a61b8",
   "metadata": {
    "hidden": true
   },
   "outputs": [
    {
     "data": {
      "text/latex": [
       "Computing time of full spectral decomposition of $U^\\top A\\, U$: $\\hspace{0.5em}$ 3.25 [s]"
      ],
      "text/plain": [
       "<IPython.core.display.Latex object>"
      ]
     },
     "metadata": {},
     "output_type": "display_data"
    }
   ],
   "source": [
    "display( Latex(f'Computing time of full spectral decomposition of $U^\\\\top A\\, U$: $\\\\hspace{{0.5em}}$ '\n",
    "               + '{0:.2f} [s]'.format(end-start) ) )"
   ]
  },
  {
   "cell_type": "code",
   "execution_count": 34,
   "id": "0738e3e0",
   "metadata": {
    "hidden": true
   },
   "outputs": [],
   "source": [
    "Whole_Spectrum.sort()"
   ]
  },
  {
   "cell_type": "code",
   "execution_count": 35,
   "id": "ba9aa3f5",
   "metadata": {
    "hidden": true
   },
   "outputs": [],
   "source": [
    "Full_A = np.diag(λ*ones(nm)) + μ * ( np.diag(η) - ANOVA )"
   ]
  },
  {
   "cell_type": "code",
   "execution_count": 36,
   "id": "8a8fce6f",
   "metadata": {
    "hidden": true
   },
   "outputs": [],
   "source": [
    "start = time.time()\n",
    "#Exact_Spectrum = np.linalg.eigh(Full_A)[0]\n",
    "Exact_Spectrum = eigvalsh(Full_A, check_finite='false')\n",
    "end = time.time()"
   ]
  },
  {
   "cell_type": "code",
   "execution_count": 37,
   "id": "a1d62dcf",
   "metadata": {
    "hidden": true
   },
   "outputs": [
    {
     "data": {
      "text/latex": [
       "Computing time of full spectral decomposition of $A$: $\\hspace{0.5em}$ 3.25 [s]"
      ],
      "text/plain": [
       "<IPython.core.display.Latex object>"
      ]
     },
     "metadata": {},
     "output_type": "display_data"
    }
   ],
   "source": [
    "display( Latex(f'Computing time of full spectral decomposition of $A$: $\\\\hspace{{0.5em}}$ '\n",
    "               + '{0:.2f} [s]'.format(end-start) ) )"
   ]
  },
  {
   "cell_type": "code",
   "execution_count": 38,
   "id": "c4258976",
   "metadata": {
    "hidden": true
   },
   "outputs": [],
   "source": [
    "del Full_A"
   ]
  },
  {
   "cell_type": "markdown",
   "id": "b86dc4bc",
   "metadata": {
    "hidden": true
   },
   "source": [
    "Now let's add some spectral bounds derived in a previous notebook:"
   ]
  },
  {
   "cell_type": "code",
   "execution_count": 39,
   "id": "829dbd52",
   "metadata": {
    "code_folding": [
     0
    ],
    "hidden": true
   },
   "outputs": [
    {
     "data": {
      "image/png": "[encoded data removed]",
      "text/plain": [
       "<Figure size 1224x288 with 2 Axes>"
      ]
     },
     "metadata": {},
     "output_type": "display_data"
    }
   ],
   "source": [
    "# Plot of spectrum\n",
    "fig, ax = plt.subplots(1, 2, sharey=True, facecolor='w', figsize=(17,4), width_ratios = [1/10, 1-1/10])\n",
    "\n",
    "# plot the same data on both axes\n",
    "ax[0].scatter(Exact_Spectrum + λ, [0]*nm, s = 90, alpha = 0.4, marker = 'o', \n",
    "            edgecolors='black', facecolors='none')\n",
    "ax[0].scatter(λ, [0], s = 90, alpha = 1, marker = 'o', \n",
    "            edgecolors='black', facecolors='none')\n",
    "ax[0].scatter(λ, [0.3], s = 95, alpha = 1, marker = '>', \n",
    "            color='xkcd:orange', facecolors='none')\n",
    "\n",
    "ax[1].scatter(Exact_Spectrum[1:] + λ, [0]*(nm-1), s = 90, alpha = 0.4, marker = 'o', \n",
    "            edgecolors='black', facecolors='none')\n",
    "ax[1].scatter(λ, [0], s = 90, alpha = 1, marker = 'o', \n",
    "            edgecolors='black', facecolors='none', label='Exact eigenvalues')\n",
    "ax[1].scatter(λ, [0.3], s = 95, alpha = 1, marker = '>', \n",
    "            color='xkcd:orange', facecolors='none', label='Conjugated spectrum')\n",
    "\n",
    "ax[1].scatter(Whole_Spectrum.real, [0.3]*nm, s = 95, alpha = 0.3, marker = '>', \n",
    "            color='xkcd:orange', facecolors='none')\n",
    "\n",
    "\n",
    "ax[0].axvline(x=λ, color='xkcd:plum', linestyle='-')\n",
    "ax[1].axvline(x=λ, color='xkcd:plum', linestyle='-', label='Regulariser weight $\\\\lambda$')\n",
    "ax[0].axvline(x=1e-22, color='orange', linestyle='-')\n",
    "ax[1].axvline(x=1e-22, color='orange', linestyle='-', label='Lower')\n",
    "ax[1].axvline(x=7*1e+1, color='violet', linestyle='-', label='Upper')\n",
    "#plt.axhline(y= μ * 1.01*(η-1).max(), color='violet', linestyle='-', label='upper approximation')\n",
    "ax[1].axvline(x=μ * 1*(η-1).max(), color='xkcd:grey', linestyle='--', label='ρ(B) bounds')\n",
    "ax[1].axvline(x=μ * 2*(η-1).max(), color='xkcd:grey', linestyle='--')\n",
    "\n",
    "\n",
    "# Define domain of each part\n",
    "ax[0].set_xlim(-1e-22, 2e-22)\n",
    "ax[1].set_xlim(1.5e-1, 1e+2)\n",
    "plt.ylim(-0.2, 0.5)\n",
    "\n",
    "\n",
    "# hide the spines between ax[0] and ax[1]\n",
    "ax[0].spines['right'].set_visible(False)\n",
    "ax[1].spines['left'].set_visible(False)\n",
    "ax[0].tick_params(labelleft=False, left=False)\n",
    "ax[1].tick_params(labelleft=False, left=False)\n",
    "\n",
    "#plt.xscale('log')\n",
    "ax[0].set_xscale('symlog')\n",
    "ax[1].set_xscale('log')\n",
    "\n",
    "\n",
    "# Diagonal lines\n",
    "b_d = .017  # how big to make the diagonal lines in axes coordinates\n",
    "# arguments to pass plot, just so we don't keep repeating them\n",
    "kwargs = dict(transform=ax[0].transAxes, color='k', clip_on=False)\n",
    "ax[0].plot((1-b_d, 1+b_d), (1-b_d, 1+b_d), **kwargs)\n",
    "ax[0].plot((1-b_d, 1+b_d), (-b_d, +b_d), **kwargs)\n",
    "\n",
    "ax[0].plot((1+2*b_d, 1+4*b_d), (1-b_d, 1+b_d), **kwargs)\n",
    "ax[0].plot((1+2*b_d, 1+4*b_d), (-b_d, +b_d), **kwargs)\n",
    "\n",
    "# Adjust spacing between the two plots\n",
    "plt.subplots_adjust(wspace=0.07)\n",
    "\n",
    "# Add grid lines\n",
    "plt.grid('on', which = 'major', linewidth = 0.2)\n",
    "ax[1].yaxis.grid(False)\n",
    "\n",
    "# Add more ticks in x-axis\n",
    "ax_base = [-1,-1, 0,0,1,1,2]\n",
    "ax_val  = [ 1.6, 4, 1,3,1,3,1]\n",
    "ax_loc  = ax_val * 10.0**asarray(ax_base)\n",
    "ax_lbl  = [plt.Text(a[0], 0, '$\\\\mathdefault{10^{' + '{0}'.format(a[1]) + '}}$' )  if a[2] == 1 else \n",
    "           plt.Text(a[0], 0, '$\\\\mathdefault{' + '{}'.format(a[2]) +' \\\\times 10^{'+'{0}'.format(a[1]) +'}}$' )  \n",
    "           for a in zip(ax_loc, ax_base, ax_val) ]\n",
    "#plt.xticks(ax_loc, ax_lbl )\n",
    "ax[1].set_xticks(ax_loc, ax_lbl)\n",
    "\n",
    "ax[0].set_xticks([0, 1e-22], \n",
    "                 [plt.Text(0,0, '$\\\\mathdefault{0}$'), plt.Text(1e-22, 0, '$\\\\mathdefault{ 10^{-22} }$')])\n",
    "\n",
    "\n",
    "# Present legend\n",
    "ax[1].legend(loc='upper right')\n",
    "plt.show()"
   ]
  },
  {
   "cell_type": "markdown",
   "id": "000f4d11",
   "metadata": {},
   "source": [
    "# Systems"
   ]
  },
  {
   "cell_type": "markdown",
   "id": "fa2bcf4e",
   "metadata": {
    "heading_collapsed": true
   },
   "source": [
    "## Preconditioner Setup"
   ]
  },
  {
   "cell_type": "code",
   "execution_count": 40,
   "id": "63eff7f8",
   "metadata": {
    "hidden": true
   },
   "outputs": [],
   "source": [
    "λ = 1e-9"
   ]
  },
  {
   "cell_type": "markdown",
   "id": "69f41696",
   "metadata": {
    "hidden": true
   },
   "source": [
    "Observe that when we conjugate $A$ by $U$, the system of equations changes to the equivalent system $ U^\\top A U y = \\lambda U^\\top f $. The effects of this transformation are many, among which we have that $[U^\\top f]_1$ is often very large:"
   ]
  },
  {
   "cell_type": "code",
   "execution_count": 41,
   "id": "e66229dc",
   "metadata": {
    "hidden": true
   },
   "outputs": [],
   "source": [
    "g = U.T.dot(f.ravel())"
   ]
  },
  {
   "cell_type": "code",
   "execution_count": 42,
   "id": "f21fe792",
   "metadata": {
    "code_folding": [
     0
    ],
    "hidden": true
   },
   "outputs": [
    {
     "data": {
      "image/png": "[encoded data removed]",
      "text/plain": [
       "<Figure size 1224x72 with 1 Axes>"
      ]
     },
     "metadata": {
      "needs_background": "light"
     },
     "output_type": "display_data"
    }
   ],
   "source": [
    "# Values of RHS\n",
    "plt.figure(figsize=(17,1))\n",
    "plt.ticklabel_format(style='plain', axis='x', useOffset=False)\n",
    "plt.scatter( np.sort(abs(g[1:])), [0]*(nm-1), s = 90, alpha = 0.4, marker = 'o', \n",
    "            edgecolors='black', facecolors='none' )\n",
    "plt.scatter( g[0], [0], s = 90, marker = 'o', edgecolors='red', facecolors='none' )\n",
    "plt.xscale('log')\n",
    "\n",
    "# Add grid lines\n",
    "plt.grid('on', which = 'major', linewidth = 0.2)\n",
    "plt.yticks([])\n",
    "plt.show()"
   ]
  },
  {
   "cell_type": "markdown",
   "id": "609abd0c",
   "metadata": {
    "hidden": true
   },
   "source": [
    "We first check that $f$ has more mass than a vector of ones and that its mass is not concentrated at a point:"
   ]
  },
  {
   "cell_type": "code",
   "execution_count": 43,
   "id": "fcd093c4",
   "metadata": {
    "hidden": true
   },
   "outputs": [
    {
     "data": {
      "text/plain": [
       "True"
      ]
     },
     "execution_count": 43,
     "metadata": {},
     "output_type": "execute_result"
    }
   ],
   "source": [
    "norm(f.ravel(), np.inf) * nm**0.5 < f.ravel().sum()"
   ]
  },
  {
   "cell_type": "markdown",
   "id": "f7b6c3b6",
   "metadata": {
    "hidden": true
   },
   "source": [
    "This means that $U^\\top f$ has an amplified first entry that is significantly larger than any other entry. As a result, solving a system of equations with this vector on the RHS can become troublesome. Let us select the representative $c_{[U,f]} = \\max_k |\\, [U^\\top f]_k| / [U^\\top f]_1$."
   ]
  },
  {
   "cell_type": "code",
   "execution_count": 44,
   "id": "b472d41a",
   "metadata": {
    "hidden": true
   },
   "outputs": [
    {
     "name": "stdout",
     "output_type": "stream",
     "text": [
      "cᵤ: 0.05, 1/cᵤ: 22.03\n"
     ]
    }
   ],
   "source": [
    "cᵤ = (abs(g[1:])/g[0]).max()\n",
    "print('cᵤ: {0:.2f}, 1/cᵤ: {1:.2f}'.format(cᵤ, 1/cᵤ))"
   ]
  },
  {
   "cell_type": "markdown",
   "id": "d60304d1",
   "metadata": {
    "hidden": true
   },
   "source": [
    "\n",
    "Below we will take three choices for $\\alpha_{[U,f]}$ and $\\beta$ and $\\widehat\\kappa = 50$:"
   ]
  },
  {
   "cell_type": "code",
   "execution_count": 45,
   "id": "d67c5812",
   "metadata": {
    "hidden": true
   },
   "outputs": [
    {
     "name": "stdout",
     "output_type": "stream",
     "text": [
      "[(0.0, -0.03954313908024019), (0.5, -0.08712136133700439), (1.0, -0.1887744449262243), (1.0, 0.0)]\n"
     ]
    }
   ],
   "source": [
    "κ̂ = 50.0\n",
    "Selection = [(0.0, np.log(cᵤ * κ̂)/np.log(λ)), \n",
    "             (0.5, np.log(κ̂ *(1.0 - 0.5 * 0.5 * (1.0 - cᵤ))/(1.0 - 0.5 * 0.5 * (1.0 - 1/cᵤ)) )/np.log(λ)),\n",
    "             (1.0, np.log(κ̂)/np.log(λ))\n",
    "            ]\n",
    "Selection.append( (1.0, 0.0) )    # Add to test for comparison\n",
    "print(Selection)"
   ]
  },
  {
   "cell_type": "code",
   "execution_count": 46,
   "id": "0530fc2f",
   "metadata": {
    "hidden": true
   },
   "outputs": [],
   "source": [
    "a_B = Whole_Spectrum[ 1] + λ\n",
    "ρ_B = Whole_Spectrum[-1] + λ"
   ]
  },
  {
   "cell_type": "code",
   "execution_count": 47,
   "id": "92cc2557",
   "metadata": {
    "code_folding": [
     1
    ],
    "hidden": true
   },
   "outputs": [
    {
     "name": "stdout",
     "output_type": "stream",
     "text": [
      "–––––––––––––––––––––––––––––––––––––––––––––––––––––––––––––––––––––––––––––––––––––\n",
      "Pair (αᵤ, β) = (0.0, -0.04)\n",
      "Scales κ = 133.50 by 50 to κ = 6675.24 but reducing base condition number by 3192523.\n",
      "RHS norms ‖•‖₂ = 338.60, ‖•‖∞ = 338.60, ‖•₂₋ₙ‖₂ = 4.59e-05\n",
      "–––––––––––––––––––––––––––––––––––––––––––––––––––––––––––––––––––––––––––––––––––––\n",
      "Pair (αᵤ, β) = (0.5, -0.09)\n",
      "Scales κ = 133.50 by 50 to κ = 6675.24 but reducing base condition number by 3192523.\n",
      "RHS norms ‖•‖₂ = 493.20, ‖•‖∞ = 493.20, ‖•₂₋ₙ‖₂ = 6.69e-05\n",
      "–––––––––––––––––––––––––––––––––––––––––––––––––––––––––––––––––––––––––––––––––––––\n",
      "Pair (αᵤ, β) = (1.0, -0.19)\n",
      "Scales κ = 133.50 by 50 to κ = 6675.24 but reducing base condition number by 3192523.\n",
      "RHS norms ‖•‖₂ = 647.80, ‖•‖∞ = 647.80, ‖•₂₋ₙ‖₂ = 8.78e-05\n",
      "–––––––––––––––––––––––––––––––––––––––––––––––––––––––––––––––––––––––––––––––––––––\n",
      "Pair (αᵤ, β) = (1.0, 0.00)\n",
      "Scales κ = 133.50 by 1 to κ = 133.50 but reducing base condition number by 159626166.\n",
      "RHS norms ‖•‖₂ = 647.80, ‖•‖∞ = 647.80, ‖•₂₋ₙ‖₂ = 1.76e-06\n",
      "–––––––––––––––––––––––––––––––––––––––––––––––––––––––––––––––––––––––––––––––––––––\n"
     ]
    }
   ],
   "source": [
    "lₛ = ones(nm)\n",
    "for αᵤ, β in Selection:\n",
    "    # Scalings\n",
    "    s = [1.0 - 0.5 * (1.0 - αᵤ) * (1.0 - cᵤ), 1.0 - 0.5 * (1.0 - αᵤ) * (1.0 - 1/cᵤ)]\n",
    "    # Reset scalings\n",
    "    lₛ[0] = s[0];    lₛ[1:] = s[1]\n",
    "    # Add correction factors\n",
    "    lₛ[0] *= (a_B + λ)/λ;    lₛ[1:] *= (λ**β)\n",
    "    \n",
    "    # Display stats\n",
    "    print(85*'–')\n",
    "    print('Pair (αᵤ, β) = ({0:.1f}, {1:.2f})'.format(αᵤ, β) )\n",
    "    print('Scales κ = {0:.2f} by {1:.0f} to κ = {2:.2f} but reducing base condition number by {3:.0f}.'.format(\n",
    "        (ρ_B + λ)/(a_B + λ), (λ**β) * (s[1]/s[0]),  (λ**β) * (s[1]/s[0]) * (ρ_B + λ)/(a_B + λ), \n",
    "        (ρ_B + λ)/(λ * (λ**β) * (s[1]/s[0]) * (ρ_B + λ)/(a_B + λ)) ))\n",
    "    print( 'RHS norms ‖•‖₂ = {0:.2f}, ‖•‖∞ = {1:.2f}, ‖•₂₋ₙ‖₂ = {2:.2e}'.format( \n",
    "        norm(lₛ * λ * g, 2), norm(lₛ * λ * g, np.inf), norm( (lₛ * λ * g)[1:], 2),\n",
    "        norm(lₛ * λ * g, np.inf)/np.min( abs(lₛ * λ * g)[1:])\n",
    "    ))\n",
    "    \n",
    "    # ( lₛ * λ * g )    \n",
    "print(85*'–')"
   ]
  },
  {
   "cell_type": "markdown",
   "id": "8186f099",
   "metadata": {
    "heading_collapsed": true
   },
   "source": [
    "## Assemble and solution"
   ]
  },
  {
   "cell_type": "code",
   "execution_count": 48,
   "id": "bee33857",
   "metadata": {
    "hidden": true
   },
   "outputs": [],
   "source": [
    "from scipy.sparse.linalg import LinearOperator, minres, cg, bicgstab\n",
    "from mpmath import mp"
   ]
  },
  {
   "cell_type": "code",
   "execution_count": 49,
   "id": "24c8789c",
   "metadata": {
    "hidden": true
   },
   "outputs": [],
   "source": [
    "λ = 1e-9"
   ]
  },
  {
   "cell_type": "code",
   "execution_count": 50,
   "id": "86dfd387",
   "metadata": {
    "hidden": true
   },
   "outputs": [],
   "source": [
    "# Original RHS\n",
    "ff  = f.ravel()\n",
    "l_u = λ * ff"
   ]
  },
  {
   "cell_type": "code",
   "execution_count": 51,
   "id": "2f1cef24",
   "metadata": {
    "code_folding": [
     0,
     9
    ],
    "hidden": true
   },
   "outputs": [],
   "source": [
    "# Create a counter that will return how many iterations of each method were performed\n",
    "\n",
    "'''\n",
    "    Counter for CG\n",
    "'''\n",
    "global cg_its, cg_res, cg_opn, cg_eny\n",
    "cg_its = 0\n",
    "cg_res, cg_opn, cg_eny = [], [], []\n",
    "\n",
    "def solver_call(xk):\n",
    "    global cg_its, cg_res, cg_opn, cg_eny\n",
    "    cg_its += 1                                # Update counter\n",
    "    y = A.dot(xk)                              # Evaluate Ax\n",
    "    r = y - l_u                                # Evaluate the residual\n",
    "    cg_res.append( norm(r) )                   # Compute ℓ² residual\n",
    "    cg_opn.append( (r.dot(A.dot(r)))**0.5 )    # Compute operator norm of the residual\n",
    "    cg_eny.append( 0.5 * xk.dot(y) - xk.dot(l_u) )    # Compute energy\n",
    "    #if cg_res[-1] < 1e-10:    print(cg_its)\n",
    "\n",
    "'''\n",
    "    Counter for preconditioned CG\n",
    "'''\n",
    "def solver_prec(xk):\n",
    "    global cg_its, cg_res, cg_opn, cg_eny\n",
    "    cg_its += 1                                   # Update counter\n",
    "    \n",
    "    # Original system\n",
    "    z = MV_basis_U(xk)                            # Recover solution in original basis\n",
    "    y = A.dot(z)                                  # Evaluate Az\n",
    "    r = y - l_u                                   # Evaluate the residual\n",
    "    cg_res[0].append( norm(r) )                   # Compute ℓ² residual\n",
    "    cg_opn[0].append( (r.dot(A.dot(r)))**0.5 )    # Compute operator norm of the residual\n",
    "    cg_eny[0].append( 0.5 * z.dot(y) - z.dot(l_u) )    # Compute energy\n",
    "    \n",
    "    # Preconditioned system\n",
    "    y = MAM(xk)                                   # Evaluate MAMx\n",
    "    r = y - Prec_RHS                              # Evaluate the residual\n",
    "    cg_res[1].append( norm(r) )                   # Compute ℓ² residual\n",
    "    cg_opn[1].append( (r.dot(MAM(r)))**0.5 )      # Compute operator norm of the residual\n",
    "    cg_eny[1].append( 0.5 * xk.dot(y) - xk.dot(Prec_RHS) )    # Compute energy\n",
    "    #print(xk[0] - Prec_RHS[0])\n",
    "    #if cg_res[0][-1] < 1e-10:    print(cg_its)"
   ]
  },
  {
   "cell_type": "code",
   "execution_count": 52,
   "id": "fe23d286",
   "metadata": {
    "hidden": true
   },
   "outputs": [
    {
     "name": "stdout",
     "output_type": "stream",
     "text": [
      "300 300\n"
     ]
    }
   ],
   "source": [
    "cg_its, cg_res, cg_opn, cg_eny = 0, [], [], []\n",
    "u, status = cg(A, l_u, x0 = ff, tol=1e-7, maxiter = 300, M = None, callback = solver_call)\n",
    "print(status, cg_its)"
   ]
  },
  {
   "cell_type": "code",
   "execution_count": 53,
   "id": "c33297f6",
   "metadata": {
    "code_folding": [
     0
    ],
    "hidden": true
   },
   "outputs": [
    {
     "data": {
      "image/png": "[encoded data removed]",
      "text/plain": [
       "<Figure size 1152x216 with 1 Axes>"
      ]
     },
     "metadata": {
      "needs_background": "light"
     },
     "output_type": "display_data"
    },
    {
     "name": "stdout",
     "output_type": "stream",
     "text": [
      "Smallest residual at iteration: 173 (173)\n",
      "Smallest energy at iteration: 234\n"
     ]
    }
   ],
   "source": [
    "# Plots of residual \n",
    "cg_res, cg_opn, cg_eny = asarray(cg_res), asarray(cg_opn), asarray(cg_eny)\n",
    "p = [None, None]\n",
    "plt.figure(figsize=(16,3))\n",
    "plt.ticklabel_format(style='plain', axis='x', useOffset=False)\n",
    "# Plot ℓ² residuals\n",
    "p[0] = plt.plot(cg_res, label = '‖r‖₂')\n",
    "plt.plot(cg_res/norm(l_u), c = p[0][0].get_color(), linestyle='--', label = '‖r‖₂ / ‖λf‖₂')\n",
    "# Plot A-ℓ² residuals\n",
    "p[1] = plt.plot(cg_opn, label = '‖r‖ᴀ')\n",
    "plt.plot(cg_opn/( l_u.dot(A.dot(l_u)) )**0.5, c = p[1][0].get_color(), linestyle='--', label = '‖r‖ᴀ / ‖λf‖ᴀ')\n",
    "plt.plot(abs(cg_eny), label = 'F(xₖ)')\n",
    "plt.yscale('log')\n",
    "plt.axhline(y = 1e-7, linestyle = ':', color = 'black', label = 'Tolerance')\n",
    "plt.legend(ncols = 2)\n",
    "plt.show()\n",
    "print('Smallest residual at iteration: {0} ({1})'.format(np.argmin(cg_res), np.argmin(cg_opn)) )\n",
    "print('Smallest energy at iteration:', np.argmin(cg_eny))"
   ]
  },
  {
   "cell_type": "code",
   "execution_count": 54,
   "id": "77cd581c",
   "metadata": {
    "hidden": true
   },
   "outputs": [],
   "source": [
    "uₑ, status = cg(A, l_u, x0 = ff, tol=1e-7, maxiter = np.argmin(cg_eny), M = None)\n",
    "uᵣ, status = cg(A, l_u, x0 = ff, tol=1e-7, maxiter = np.argmin(cg_res), M = None)"
   ]
  },
  {
   "cell_type": "code",
   "execution_count": 55,
   "id": "c4371206",
   "metadata": {
    "code_folding": [
     0
    ],
    "hidden": true
   },
   "outputs": [
    {
     "data": {
      "image/png": "[encoded data removed]",
      "text/plain": [
       "<Figure size 1224x216 with 5 Axes>"
      ]
     },
     "metadata": {
      "needs_background": "light"
     },
     "output_type": "display_data"
    }
   ],
   "source": [
    "# Plot results\n",
    "fig, ax = plt.subplots(1, 5, figsize=(17, 3), layout='constrained')\n",
    "\n",
    "# Original\n",
    "ax[0].imshow(img, cmap='gray')#, vmin = 0, vmax = 255)\n",
    "ax[0].set_title('RHS\\n '+'PtP: {0:.0e}'.format(np.ptp(img.ravel())))\n",
    "\n",
    "# RHS\n",
    "ax[1].imshow(l_u.reshape(N,M), cmap='gray')\n",
    "ax[1].set_title('RHS\\n '+'PtP: {0:.0e}'.format(np.ptp(l_u)))\n",
    "\n",
    "# Results at different energies\n",
    "\n",
    "## Minimal energy\n",
    "ax[2].imshow(uₑ.reshape(N,M), cmap='gray')#, vmin = 0, vmax = 255)\n",
    "ax[2].set_title('Minimal energy\\n '+'PtP: {0:.0e}'.format(np.ptp(uᵣ)))\n",
    "\n",
    "## Minimal residual\n",
    "ax[3].imshow(uᵣ.reshape(N,M), cmap='gray')\n",
    "ax[3].set_title('Minimal residual\\n '+'PtP: {0:.0e}'.format(np.ptp(uₑ)))\n",
    "\n",
    "## Difference\n",
    "ax[4].imshow( abs(uᵣ - uₑ).reshape(N,M), cmap='gray')\n",
    "ax[4].set_title('Absolute difference\\n '+'PtP: {0:.0e}'.format(np.ptp( abs(uᵣ - uₑ) )))\n",
    "\n",
    "for ı in range(5):    ax[ı].axis('off')\n",
    "fig.set_constrained_layout_pads(wspace = 4)"
   ]
  },
  {
   "cell_type": "code",
   "execution_count": 56,
   "id": "b015b309",
   "metadata": {
    "code_folding": [
     0
    ],
    "hidden": true
   },
   "outputs": [
    {
     "data": {
      "image/png": "[encoded data removed]",
      "text/plain": [
       "<Figure size 1224x216 with 5 Axes>"
      ]
     },
     "metadata": {
      "needs_background": "light"
     },
     "output_type": "display_data"
    }
   ],
   "source": [
    "# Plot results\n",
    "fig, ax = plt.subplots(1, 5, figsize=(17, 3), layout='constrained')\n",
    "\n",
    "# Original\n",
    "ax[0].imshow(img, cmap='gray')#, vmin = 0, vmax = 255)\n",
    "ax[0].set_title('RHS\\n '+'PtP: {0:.0e}'.format(np.ptp(img.ravel())))\n",
    "\n",
    "# RHS\n",
    "ax[1].imshow(l_u.reshape(N,M), cmap='gray')\n",
    "ax[1].set_title('RHS\\n '+'PtP: {0:.0e}'.format(np.ptp(l_u)))\n",
    "\n",
    "# Results at different energies\n",
    "\n",
    "## Minimal energy\n",
    "ax[2].imshow(uₑ.reshape(N,M), cmap='gray', vmin = 0, vmax = 255)\n",
    "ax[2].set_title('Minimal energy\\n '+'PtP: {0:.0e}'.format(np.ptp(uᵣ)))\n",
    "\n",
    "## Minimal residual\n",
    "ax[3].imshow(uᵣ.reshape(N,M), cmap='gray', vmin = 0, vmax = 255)\n",
    "ax[3].set_title('Minimal residual\\n '+'PtP: {0:.0e}'.format(np.ptp(uₑ)))\n",
    "\n",
    "## Difference\n",
    "ax[4].imshow( abs(uᵣ - uₑ).reshape(N,M), cmap='gray', vmin = 0, vmax = 255)\n",
    "ax[4].set_title('Absolute difference\\n '+'PtP: {0:.0e}'.format(np.ptp( abs(uᵣ - uₑ) )))\n",
    "\n",
    "for ı in range(5):    ax[ı].axis('off')\n",
    "fig.set_constrained_layout_pads(wspace = 4)"
   ]
  },
  {
   "cell_type": "markdown",
   "id": "c5ef566d",
   "metadata": {
    "hidden": true
   },
   "source": [
    "As could be expected, the result is almost a constant but nevertheless, it is still featuring some of the elements of the figure. If we run the same code for a higher $\\lambda$ we will start to recover more features of the image as well as the color range."
   ]
  },
  {
   "cell_type": "markdown",
   "id": "c30d5a1b",
   "metadata": {
    "hidden": true
   },
   "source": [
    "--- "
   ]
  },
  {
   "cell_type": "code",
   "execution_count": 57,
   "id": "a58e5ade",
   "metadata": {
    "code_folding": [
     0
    ],
    "hidden": true
   },
   "outputs": [],
   "source": [
    "# The unitary transformation does not depend on the value of the regulariser\n",
    "e_1     = zeros(nm);       e_1[0] = 1.0\n",
    "not_e_1 = ones(nm);    not_e_1[0] = 0.0\n",
    "aux_h = np.arange(nm, dtype = '<f8')\n",
    "# The next line was suffering of bad precision:\n",
    "#aux_d = np.reciprocal(np.sqrt( np.concatenate( ([nm], np.arange(2,nm+1) * np.arange(1,nm) ) ).astype('<f8') ))\n",
    "mp.dps = 20\n",
    "aux_d = np.concatenate( ([nm], np.arange(2,nm+1) * np.arange(1,nm) ) ).astype('<f8')\n",
    "aux_d = asarray([mp.power(k, -0.5) for k in aux_d], dtype='<f8')\n",
    "\n",
    "def MV_basis_U_T(v):       return aux_d * (np.roll( np.cumsum(v),1) - (aux_h * v))\n",
    "# If precision issues - follow (mismatch due to cumsum precision):\n",
    "'''def MV_basis_U_T(v):       \n",
    "    w = np.roll( np.cumsum(v), 1) - (aux_h * v)\n",
    "    w_a = np.float64(v.sum() * mp.power(nm, -0.5))    # First component was not well computed\n",
    "    w *= aux_d;    w[0] = w_a\n",
    "    return w'''\n",
    "def MV_basis_U(v):\n",
    "    w = aux_d * v\n",
    "    return  ((w.sum() - np.cumsum(w)) * np.flip(not_e_1)) - (aux_h * w) + w[0]\n",
    "\n",
    "# Define preconditioned system\n",
    "def MV_basis_MAM(v):\n",
    "    # half Leverage, U, A, U.T, other half Leverage i.e. (P U.T A U) v\n",
    "    return lever_λ * MV_basis_U_T( A.dot( MV_basis_U( v ) ) )\n",
    "# The following is not needed:\n",
    "def MV_basis_MAM_T(v):\n",
    "    return MV_basis_U( A.dot( MV_basis_U_T(lever_λ * v) ) )\n",
    "\n",
    "MAM = LinearOperator((nm,nm), dtype=np.float64, matvec=MV_basis_MAM, rmatvec=MV_basis_MAM)"
   ]
  },
  {
   "cell_type": "code",
   "execution_count": 58,
   "id": "807a2cef",
   "metadata": {
    "hidden": true
   },
   "outputs": [
    {
     "data": {
      "text/plain": [
       "6.821210263296962e-13"
      ]
     },
     "execution_count": 58,
     "metadata": {},
     "output_type": "execute_result"
    }
   ],
   "source": [
    "abs(lₛ * MV_basis_U_T(l_u) - λ * lₛ * MV_basis_U_T(ff)).max()"
   ]
  },
  {
   "cell_type": "code",
   "execution_count": 59,
   "id": "2b756147",
   "metadata": {
    "hidden": true
   },
   "outputs": [
    {
     "data": {
      "text/plain": [
       "(647.8037377057078, 647.8037377057083, 647.8037377057085)"
      ]
     },
     "execution_count": 59,
     "metadata": {},
     "output_type": "execute_result"
    }
   ],
   "source": [
    "λ * lₛ[0] * MV_basis_U_T(ff)[0], λ * lₛ[0] * np.float64(ff.sum() * mp.power(nm, -0.5)), lₛ[0] * MV_basis_U_T(l_u)[0]"
   ]
  },
  {
   "cell_type": "code",
   "execution_count": 60,
   "id": "fe4169a4",
   "metadata": {
    "hidden": true
   },
   "outputs": [
    {
     "data": {
      "text/plain": [
       "(4058.255328414624, 4058.255328414627)"
      ]
     },
     "execution_count": 60,
     "metadata": {},
     "output_type": "execute_result"
    }
   ],
   "source": [
    "MV_basis_U_T(ff)[0], np.float64(ff.sum() * mp.power(nm, -0.5))"
   ]
  },
  {
   "cell_type": "code",
   "execution_count": 61,
   "id": "3867153e",
   "metadata": {
    "hidden": true
   },
   "outputs": [
    {
     "data": {
      "text/plain": [
       "(647.8037377057078, 647.8037377057083, 647.8037377057085)"
      ]
     },
     "execution_count": 61,
     "metadata": {},
     "output_type": "execute_result"
    }
   ],
   "source": [
    "λ * lₛ[0] * MV_basis_U_T(ff)[0], λ * lₛ[0] * np.float64(ff.sum() * mp.power(nm, -0.5)), lₛ[0] * MV_basis_U_T(l_u)[0]"
   ]
  },
  {
   "cell_type": "code",
   "execution_count": 62,
   "id": "eba063fd",
   "metadata": {
    "code_folding": [
     3
    ],
    "hidden": true
   },
   "outputs": [
    {
     "name": "stdout",
     "output_type": "stream",
     "text": [
      "–––––––––––––––––––––––––––––––––––––––––––––––––––––––––––––––––––––––––––––––––––––\n",
      "Pair (αᵤ, β) = (0.0, -0.04)\n",
      "300 300\n",
      "–––––––––––––––––––––––––––––––––––––––––––––––––––––––––––––––––––––––––––––––––––––\n",
      "Pair (αᵤ, β) = (0.5, -0.09)\n",
      "300 300\n",
      "–––––––––––––––––––––––––––––––––––––––––––––––––––––––––––––––––––––––––––––––––––––\n",
      "Pair (αᵤ, β) = (1.0, -0.19)\n",
      "146 0\n",
      "–––––––––––––––––––––––––––––––––––––––––––––––––––––––––––––––––––––––––––––––––––––\n",
      "Pair (αᵤ, β) = (1.0, 0.00)\n",
      "105 0\n",
      "–––––––––––––––––––––––––––––––––––––––––––––––––––––––––––––––––––––––––––––––––––––\n"
     ]
    }
   ],
   "source": [
    "lₛ = ones(nm)\n",
    "\n",
    "Prec_Results = {ı: {'It': 0, 'Res': [], 'Opn': [], 'Eny': []} for ı in Selection}\n",
    "for αᵤ, β in Selection:\n",
    "    print(85*'–')\n",
    "    print('Pair (αᵤ, β) = ({0:.1f}, {1:.2f})'.format(αᵤ, β) )\n",
    "    \n",
    "    # Scalings\n",
    "    s = [1.0 - 0.5 * (1.0 - αᵤ) * (1.0 - cᵤ), 1.0 - 0.5 * (1.0 - αᵤ) * (1.0 - 1/cᵤ)]\n",
    "    # Reset scalings\n",
    "    lₛ[0] = s[0];    lₛ[1:] = s[1]\n",
    "    # Add correction factors\n",
    "    lₛ[0] *= (a_B + λ)/λ;    lₛ[1:] *= (λ**β)\n",
    "    \n",
    "    # Set up system and solve it\n",
    "    lever_λ = lₛ.copy()\n",
    "    \n",
    "    # PU.T A UP\n",
    "    cg_its, cg_res, cg_opn, cg_eny = 0, [[],[]], [[],[]], [[],[]]\n",
    "    \n",
    "    Prec_RHS = lever_λ * MV_basis_U_T(l_u)\n",
    "    Prec_x_0 = MV_basis_U_T(ff)\n",
    "    # The first component ~might~ suffer from precision issues, thus we fixed U_T:\n",
    "    #Prec_RHS[0] = λ * lever_λ[0] * np.float64(ff.sum() * mp.power(nm, -0.5))\n",
    "    #Prec_x_0[0] = np.float64(ff.sum() * mp.power(nm, -0.5))\n",
    "    \n",
    "    u, status = cg(MAM, Prec_RHS, x0 = Prec_x_0, tol = 1e-7, maxiter = 300, M = None, callback = solver_prec)\n",
    "    print(cg_its, status)\n",
    "    \n",
    "    Prec_Results[(αᵤ, β)]['It']  = cg_its\n",
    "    Prec_Results[(αᵤ, β)]['Res'] = asarray(cg_res)\n",
    "    Prec_Results[(αᵤ, β)]['Opn'] = asarray(cg_opn)\n",
    "    Prec_Results[(αᵤ, β)]['Eny'] = asarray(cg_eny)\n",
    "    \n",
    "    \n",
    "print(85*'–')"
   ]
  },
  {
   "cell_type": "code",
   "execution_count": 63,
   "id": "63d49c80",
   "metadata": {
    "hidden": true
   },
   "outputs": [
    {
     "data": {
      "text/plain": [
       "647.8037377057085"
      ]
     },
     "execution_count": 63,
     "metadata": {},
     "output_type": "execute_result"
    }
   ],
   "source": [
    "norm(Prec_RHS)"
   ]
  },
  {
   "cell_type": "code",
   "execution_count": 64,
   "id": "3ef04278",
   "metadata": {
    "code_folding": [
     0
    ],
    "hidden": true
   },
   "outputs": [
    {
     "data": {
      "image/png": "[encoded data removed]",
      "text/plain": [
       "<Figure size 1224x504 with 2 Axes>"
      ]
     },
     "metadata": {
      "needs_background": "light"
     },
     "output_type": "display_data"
    }
   ],
   "source": [
    "# Plot results\n",
    "fig, ax = plt.subplots(2, 1, figsize=(17, 7), layout='constrained')\n",
    "\n",
    "# Original\n",
    "for ı,ȷ in Prec_Results.items():\n",
    "    cg_res = ȷ['Res']\n",
    "    # Plot ℓ² residuals\n",
    "    p[0] = ax[0].plot(cg_res[0], label = '({0},{1:.2f})'.format(ı[0],ı[1]) )\n",
    "    #ax[0].plot(cg_res[0]/norm(l_u), c = p[0][0].get_color(), linestyle='--', label = '‖r‖₂ / ‖λf‖₂')\n",
    "    \n",
    "    p[0] = ax[1].plot(cg_res[1], label = str(ı) + ' ‖r‖₂')\n",
    "    ax[1].plot(cg_res[1]/norm(Prec_RHS), c = p[0][0].get_color(), linestyle='--', label = '‖r‖₂ / ‖λf‖₂')\n",
    "\n",
    "ax[0].legend(title = 'Residuals ‖r‖₂ in \\n base space')\n",
    "ax[0].axhline(y = 1e-7, linestyle = ':', color = 'black', label = 'Tolerance')\n",
    "ax[1].axhline(y = 1e-7, linestyle = ':', color = 'black', label = 'Tolerance')\n",
    "ax[0].set_yscale('log');    ax[1].set_yscale('log')\n",
    "#fig.set_constrained_layout_pads(wspace = 4)"
   ]
  },
  {
   "cell_type": "markdown",
   "id": "b2e9b084",
   "metadata": {},
   "source": [
    "# A little detour into a realisation:"
   ]
  },
  {
   "cell_type": "markdown",
   "id": "475accad",
   "metadata": {},
   "source": [
    "Something I didn't notice: If I already know that $\\mathsf{A}_U$ is block diagonal, why don't I solve the system directly by blocks instead? As we have that\n",
    "\\begin{align*}\n",
    "    \\begin{pmatrix}\n",
    "        \\lambda & 0_{n-1}^\\top \n",
    "        \\\\\n",
    "        0_{n-1} & (\\mathsf{A}_{U})_{(2:n,2:n)}\n",
    "    \\end{pmatrix}\n",
    "    \\begin{pmatrix}\n",
    "        y_1\n",
    "        \\\\\n",
    "        y_{(2:n)}\n",
    "    \\end{pmatrix}\n",
    "    =\n",
    "    \\lambda\n",
    "    \\begin{pmatrix}\n",
    "        g_1\n",
    "        \\\\\n",
    "        g_{(2:n)}\n",
    "    \\end{pmatrix}\n",
    "\\end{align*}\n",
    "then we know that $y_1 = g_1$. "
   ]
  },
  {
   "cell_type": "code",
   "execution_count": 40,
   "id": "9d836fc3",
   "metadata": {},
   "outputs": [],
   "source": [
    "from scipy.sparse.linalg import LinearOperator, minres, cg, bicgstab\n",
    "from mpmath import mp"
   ]
  },
  {
   "cell_type": "code",
   "execution_count": 41,
   "id": "f34e6f04",
   "metadata": {
    "code_folding": [
     0
    ]
   },
   "outputs": [],
   "source": [
    "# The unitary transformation does not depend on the value of the regulariser\n",
    "e_1     = zeros(nm);       e_1[0] = 1.0\n",
    "not_e_1 = ones(nm);    not_e_1[0] = 0.0\n",
    "aux_h = np.arange(nm, dtype = '<f8')\n",
    "# The next line was suffering of bad precision:\n",
    "#aux_d = np.reciprocal(np.sqrt( np.concatenate( ([nm], np.arange(2,nm+1) * np.arange(1,nm) ) ).astype('<f8') ))\n",
    "mp.dps = 20\n",
    "aux_d = np.concatenate( ([nm], np.arange(2,nm+1) * np.arange(1,nm) ) ).astype('<f8')\n",
    "aux_d = asarray([mp.power(k, -0.5) for k in aux_d], dtype='<f8')\n",
    "\n",
    "def MV_basis_U_T(v):       return aux_d * (np.roll( np.cumsum(v),1) - (aux_h * v))\n",
    "# If precision issues - follow (mismatch due to cumsum precision):\n",
    "'''def MV_basis_U_T(v):       \n",
    "    w = np.roll( np.cumsum(v), 1) - (aux_h * v)\n",
    "    w_a = np.float64(v.sum() * mp.power(nm, -0.5))    # First component was not well computed\n",
    "    w *= aux_d;    w[0] = w_a\n",
    "    return w'''\n",
    "def MV_basis_U(v):\n",
    "    w = aux_d * v\n",
    "    return  ((w.sum() - np.cumsum(w)) * np.flip(not_e_1)) - (aux_h * w) + w[0]"
   ]
  },
  {
   "cell_type": "code",
   "execution_count": 42,
   "id": "59d8080a",
   "metadata": {},
   "outputs": [],
   "source": [
    "λ = 1e-9;    ff = f.flatten();    l_u = λ * ff"
   ]
  },
  {
   "cell_type": "code",
   "execution_count": 43,
   "id": "f191b172",
   "metadata": {},
   "outputs": [],
   "source": [
    "Aᵤᵦ = U_t_A_U[1:,1:] + np.diag([λ]*(nm-1), 0)\n",
    "λfᵤ = MV_basis_U_T(λ * ff)[1:]    # Project partial RHS"
   ]
  },
  {
   "cell_type": "code",
   "execution_count": 44,
   "id": "1f676a31",
   "metadata": {},
   "outputs": [],
   "source": [
    "Prec_RHS = MV_basis_U_T(l_u)    # Project RHS\n",
    "Prec_x_0 = MV_basis_U_T(ff)     # Project initial solution"
   ]
  },
  {
   "cell_type": "code",
   "execution_count": 45,
   "id": "51c96b44",
   "metadata": {},
   "outputs": [],
   "source": [
    "def solver_block(xk):\n",
    "    global cg_its, cg_res, cg_opn, cg_eny\n",
    "    cg_its += 1                                  # Update counter\n",
    "    y = Aᵤᵦ.dot(xk)                              # Evaluate Ax\n",
    "    r = y - λfᵤ                                  # Evaluate the residual\n",
    "    cg_res.append( norm(r) )                     # Compute ℓ² residual\n",
    "    cg_opn.append( (r.dot(Aᵤᵦ.dot(r)))**0.5 )    # Compute operator norm of the residual\n",
    "    cg_eny.append( 0.5 * xk.dot(y) - xk.dot(λfᵤ) )    # Compute energy"
   ]
  },
  {
   "cell_type": "code",
   "execution_count": 46,
   "id": "ff748a25",
   "metadata": {
    "code_folding": []
   },
   "outputs": [
    {
     "name": "stdout",
     "output_type": "stream",
     "text": [
      "300 300\n"
     ]
    }
   ],
   "source": [
    "cg_its, cg_res, cg_opn, cg_eny = 0, [], [], []\n",
    "u, status = cg(Aᵤᵦ, λfᵤ, x0 = Prec_x_0[1:], \n",
    "               tol=1e-7, maxiter = 300, M = None, callback = solver_block)#, atol=1e-4)\n",
    "print(cg_its, status)"
   ]
  },
  {
   "cell_type": "code",
   "execution_count": 47,
   "id": "89c61202",
   "metadata": {
    "code_folding": [
     0
    ]
   },
   "outputs": [
    {
     "data": {
      "image/png": "[encoded data removed]",
      "text/plain": [
       "<Figure size 1152x216 with 1 Axes>"
      ]
     },
     "metadata": {
      "needs_background": "light"
     },
     "output_type": "display_data"
    },
    {
     "name": "stdout",
     "output_type": "stream",
     "text": [
      "Smallest residual at iteration: 299 (299)\n",
      "Smallest energy at iteration: 167\n"
     ]
    }
   ],
   "source": [
    "# Plots of residual \n",
    "cg_res, cg_opn, cg_eny = asarray(cg_res), asarray(cg_opn), asarray(cg_eny)\n",
    "p = [None, None]\n",
    "plt.figure(figsize=(16,3))\n",
    "plt.ticklabel_format(style='plain', axis='x', useOffset=False)\n",
    "# Plot ℓ² residuals\n",
    "p[0] = plt.plot(cg_res, label = '‖r‖₂')\n",
    "plt.plot(cg_res/norm(λfᵤ), c = p[0][0].get_color(), linestyle='--', label = '‖r‖₂ / ‖λg‖₂')\n",
    "# Plot A-ℓ² residuals\n",
    "p[1] = plt.plot(cg_opn, label = r'$\\| r \\|_{ (\\mathsf{A}_U)_{(2:n)} }$')\n",
    "plt.plot(cg_opn/( (λfᵤ).dot(Aᵤᵦ.dot(λfᵤ)) )**0.5, c = p[1][0].get_color(), linestyle='--', \n",
    "         label = r'$\\| r \\|_{ (\\mathsf{A}_U)_{(2:n)} } / \\| \\lambda g \\|_{ (\\mathsf{A}_U)_{(2:n)} } $')\n",
    "plt.plot(abs(cg_eny), label = 'F(xₖ)')\n",
    "plt.yscale('log')\n",
    "plt.axhline(y = 1e-7, linestyle = ':', color = 'black', label = 'Tolerance')\n",
    "plt.legend(ncols = 2)\n",
    "plt.show()\n",
    "print('Smallest residual at iteration: {0} ({1})'.format(np.argmin(cg_res), np.argmin(cg_opn)) )\n",
    "print('Smallest energy at iteration:', np.argmin(cg_eny))"
   ]
  },
  {
   "cell_type": "code",
   "execution_count": 48,
   "id": "11a9304c",
   "metadata": {},
   "outputs": [
    {
     "name": "stdout",
     "output_type": "stream",
     "text": [
      "Largest residual: 1.25e-12\n"
     ]
    }
   ],
   "source": [
    "print('Largest residual: {0:.2e}'.format(norm(Aᵤᵦ.dot(u) - λfᵤ, np.inf)))"
   ]
  },
  {
   "cell_type": "markdown",
   "id": "7b670730",
   "metadata": {},
   "source": [
    "**Operator form**"
   ]
  },
  {
   "cell_type": "markdown",
   "id": "a9330f74",
   "metadata": {},
   "source": [
    "Let's replicate this using an operator instead:"
   ]
  },
  {
   "cell_type": "code",
   "execution_count": 49,
   "id": "bfda9d33",
   "metadata": {
    "code_folding": [
     0
    ]
   },
   "outputs": [],
   "source": [
    "# Define subblock of system\n",
    "def MV_basis_MAM(v):\n",
    "    # Project back v, change basis by U, apply A, then U.T, and project; i.e., (P U.T A U) P.T v\n",
    "    w = np.concatenate( ([0.0], v) )\n",
    "    w = MV_basis_U_T( A.dot( MV_basis_U( w ) ) )\n",
    "    return w[1:]\n",
    "\n",
    "MAM = LinearOperator((nm-1,nm-1), dtype=np.float64, matvec=MV_basis_MAM, rmatvec=MV_basis_MAM)"
   ]
  },
  {
   "cell_type": "code",
   "execution_count": 50,
   "id": "e6a7546f",
   "metadata": {},
   "outputs": [],
   "source": [
    "def solver_block_op(xk):\n",
    "    global cg_its, cg_res, cg_opn, cg_eny\n",
    "    cg_its += 1                                  # Update counter\n",
    "    y = MAM(xk)                                  # Evaluate Ax\n",
    "    r = y - λfᵤ                                  # Evaluate the residual\n",
    "    cg_res.append( norm(r) )                     # Compute ℓ² residual\n",
    "    cg_opn.append( (r.dot(MAM(r)))**0.5 )        # Compute operator norm of the residual\n",
    "    cg_eny.append( 0.5 * xk.dot(y) - xk.dot(λfᵤ) )    # Compute energy"
   ]
  },
  {
   "cell_type": "code",
   "execution_count": 51,
   "id": "f0526c84",
   "metadata": {},
   "outputs": [
    {
     "name": "stdout",
     "output_type": "stream",
     "text": [
      "300 300\n"
     ]
    }
   ],
   "source": [
    "cg_its, cg_res, cg_opn, cg_eny = 0, [], [], []\n",
    "u, status = cg(MAM, λfᵤ, x0 = Prec_x_0[1:], \n",
    "               tol=1e-7, maxiter = 300, M = None, callback = solver_block_op)#, atol=1e-4)\n",
    "print(cg_its, status)"
   ]
  },
  {
   "cell_type": "code",
   "execution_count": 52,
   "id": "0322b979",
   "metadata": {
    "code_folding": [
     0
    ]
   },
   "outputs": [
    {
     "data": {
      "image/png": "[encoded data removed]",
      "text/plain": [
       "<Figure size 1152x216 with 1 Axes>"
      ]
     },
     "metadata": {
      "needs_background": "light"
     },
     "output_type": "display_data"
    },
    {
     "name": "stdout",
     "output_type": "stream",
     "text": [
      "Smallest residual at iteration: 299 (299)\n",
      "Smallest energy at iteration: 299\n"
     ]
    }
   ],
   "source": [
    "# Plots of residual \n",
    "cg_res, cg_opn, cg_eny = asarray(cg_res), asarray(cg_opn), asarray(cg_eny)\n",
    "p = [None, None]\n",
    "plt.figure(figsize=(16,2))\n",
    "plt.ticklabel_format(style='plain', axis='x', useOffset=False)\n",
    "# Plot ℓ² residuals\n",
    "p[0] = plt.plot(cg_res, label = '‖r‖₂')\n",
    "plt.plot(cg_res/norm(λfᵤ), c = p[0][0].get_color(), linestyle='--', label = '‖r‖₂ / ‖λg‖₂')\n",
    "# Plot A-ℓ² residuals\n",
    "p[1] = plt.plot(cg_opn, label = r'$\\| r \\|_{ (\\mathsf{A}_U)_{(2:n)} }$')\n",
    "plt.plot(cg_opn/( (λfᵤ).dot(Aᵤᵦ.dot(λfᵤ)) )**0.5, c = p[1][0].get_color(), linestyle='--', \n",
    "         label = r'$\\| r \\|_{ (\\mathsf{A}_U)_{(2:n)} } / \\| \\lambda g \\|_{ (\\mathsf{A}_U)_{(2:n)} } $')\n",
    "plt.plot(abs(cg_eny), label = 'F(xₖ)')\n",
    "plt.yscale('log')\n",
    "plt.axhline(y = 1e-7, linestyle = ':', color = 'black', label = 'Tolerance')\n",
    "plt.legend(ncols = 2)\n",
    "plt.show()\n",
    "print('Smallest residual at iteration: {0} ({1})'.format(np.argmin(cg_res), np.argmin(cg_opn)) )\n",
    "print('Smallest energy at iteration:', np.argmin(cg_eny))"
   ]
  },
  {
   "cell_type": "markdown",
   "id": "bf9e88f3",
   "metadata": {},
   "source": [
    "The behaviour of both methods are very similar (they differ most likely due to precision). However, there is one caveat in the implementation of the projection as it requires the computation of the whole of $ \\mathsf{A}_U x $, with $x$ in the original dimension, before projecting back to the workingspace dimension. As a result, what we can do is to compute $ (\\mathsf{A}_U)_{\\{2:n,2:n\\}}x $ using only the $n-1$ last columns of $U$ via\n",
    "\\begin{align*}\n",
    "    (\\mathsf{A}_U)_{\\{2:n,2:n\\}} = (U_{\\{:,2:n\\}})^\\top A U_{\\{:,2:n\\}}\n",
    "\\end{align*}"
   ]
  },
  {
   "cell_type": "markdown",
   "id": "cf07865b",
   "metadata": {},
   "source": [
    "```Python\n",
    "    def Proj_basis_U_T(v):       return aux_d[1:] * (np.cumsum(v[:-1]) - (aux_h[1:] * v[1:]))\n",
    "    %timeit -n 50 -r 10 U.T.dot(ff)[1:]\n",
    "    %timeit -n 1000 -r 10 Proj_basis_U_T(ff)\n",
    "    %timeit -n 1000 -r 10 MV_basis_U_T(ff)[1:]\n",
    "```\n",
    "```\n",
    "  >> 4.06 ms ± 640 µs per loop (mean ± std. dev. of 10 runs, 50 loops each)\n",
    "  >> 27.1 µs ± 3.5 µs per loop (mean ± std. dev. of 10 runs, 1,000 loops each)\n",
    "  >> 23.1 µs ± 421 ns per loop (mean ± std. dev. of 10 runs, 1,000 loops each)\n",
    "```"
   ]
  },
  {
   "cell_type": "markdown",
   "id": "29367373",
   "metadata": {},
   "source": [
    "We observe that there is no need to change the implementation of $U$, as it is already efficient."
   ]
  },
  {
   "cell_type": "markdown",
   "id": "5958dc90",
   "metadata": {},
   "source": [
    "---"
   ]
  },
  {
   "cell_type": "markdown",
   "id": "7d04e8b8",
   "metadata": {
    "heading_collapsed": true
   },
   "source": [
    "## Tackling numerical tolerance for small $\\lambda$"
   ]
  },
  {
   "cell_type": "markdown",
   "id": "90d48a23",
   "metadata": {
    "hidden": true
   },
   "source": [
    "We can observe that the solver actually achieves a solution with high precision (low residual) in less than 150 iterations, which is a similar behaviour as what we observed when solving $Ax = \\lambda f$ directly. However, the relative residual norm is not reaching the tolerance, hence resulting in a failed status of the solver with the maximum number of iterations reached."
   ]
  },
  {
   "cell_type": "markdown",
   "id": "07d08392",
   "metadata": {
    "hidden": true
   },
   "source": [
    "Observe that the system $ (\\mathsf{A}_{U})_{(2:n,2:n)} $ is actually well conditioned, attaining the minimal condition number $ \\kappa \\big( (\\mathsf{A}_{U})_{(2:n,2:n)} \\big) = \\frac{ \\rho(B) + \\lambda }{ a(B) + \\lambda} $. Hence we should not worry much about ill conditioning. However, the constant term of the system $ (\\mathsf{A}_{U})_{(2:n,2:n)} y_{(2:n)} = \\lambda g_{(2:n)}$ might trick the solver definition of _absolute tolerance_. If we play with this value, we can actually make the algorithm stop, but this would depend on each case of $\\lambda$, hence it is prohibitive. \n",
    "\n",
    "An alternative is to notice that a solution to $ (\\mathsf{A}_{U})_{(2:n,2:n)} z = g_{(2:n)}$ can give us a solution to the system we want to solve. To see this, notice that $ \\lambda z $ is just $ (\\mathsf{A}_{U})_{(2:n,2:n)}^{-1} (\\lambda f) $; hence, we have that $ y_{(2:n)} = \\lambda z $."
   ]
  },
  {
   "cell_type": "code",
   "execution_count": 53,
   "id": "e4b31793",
   "metadata": {
    "hidden": true
   },
   "outputs": [],
   "source": [
    "Aᵤᵦ = U_t_A_U[1:,1:] + np.diag([λ]*(nm-1), 0)\n",
    "λfᵤ = MV_basis_U_T(ff)[1:]"
   ]
  },
  {
   "cell_type": "code",
   "execution_count": 54,
   "id": "a56c4c80",
   "metadata": {
    "hidden": true
   },
   "outputs": [],
   "source": [
    "def solver_block(xk):\n",
    "    global cg_its, cg_res, cg_opn, cg_eny\n",
    "    cg_its += 1                                  # Update counter\n",
    "    y = Aᵤᵦ.dot(xk)                              # Evaluate Ax\n",
    "    r = y - λfᵤ                                  # Evaluate the residual\n",
    "    cg_res.append( norm(r) )                     # Compute ℓ² residual\n",
    "    cg_opn.append( (r.dot(Aᵤᵦ.dot(r)))**0.5 )    # Compute operator norm of the residual\n",
    "    cg_eny.append( (0.5 * xk.dot(y) - xk.dot(λfᵤ)) )    # Compute energy"
   ]
  },
  {
   "cell_type": "code",
   "execution_count": 55,
   "id": "21f42d72",
   "metadata": {
    "hidden": true
   },
   "outputs": [
    {
     "name": "stdout",
     "output_type": "stream",
     "text": [
      "83 0\n"
     ]
    }
   ],
   "source": [
    "cg_its, cg_res, cg_opn, cg_eny = 0, [], [], []\n",
    "uₒ, status = cg(Aᵤᵦ, λfᵤ, x0 = Prec_x_0[1:], tol=1e-7, maxiter = 300, M = None, callback = solver_block)\n",
    "print(cg_its, status)"
   ]
  },
  {
   "cell_type": "code",
   "execution_count": 56,
   "id": "7c105c77",
   "metadata": {
    "code_folding": [
     0
    ],
    "hidden": true
   },
   "outputs": [
    {
     "data": {
      "image/png": "[encoded data removed]",
      "text/plain": [
       "<Figure size 1152x216 with 1 Axes>"
      ]
     },
     "metadata": {
      "needs_background": "light"
     },
     "output_type": "display_data"
    },
    {
     "name": "stdout",
     "output_type": "stream",
     "text": [
      "Smallest residual at iteration: 82 (82)\n",
      "Smallest energy at iteration: 82\n"
     ]
    }
   ],
   "source": [
    "# Plots of residual \n",
    "cg_res, cg_opn, cg_eny = asarray(cg_res), asarray(cg_opn), asarray(cg_eny)\n",
    "p = [None, None]\n",
    "plt.figure(figsize=(16,3))\n",
    "plt.ticklabel_format(style='plain', axis='x', useOffset=False)\n",
    "# Plot ℓ² residuals\n",
    "p[0] = plt.plot(cg_res, label = '‖r‖₂')\n",
    "plt.plot(cg_res/norm(λfᵤ), c = p[0][0].get_color(), linestyle='--', label = '‖r‖₂ / ‖λg‖₂')\n",
    "# Plot A-ℓ² residuals\n",
    "p[1] = plt.plot(cg_opn, label = r'$\\| r \\|_{ (\\mathsf{A}_U)_{(2:n)} }$')\n",
    "plt.plot(cg_opn/( (λfᵤ).dot(Aᵤᵦ.dot(λfᵤ)) )**0.5, c = p[1][0].get_color(), linestyle='--', \n",
    "         label = r'$\\| r \\|_{ (\\mathsf{A}_U)_{(2:n)} } / \\| \\lambda g \\|_{ (\\mathsf{A}_U)_{(2:n)} } $')\n",
    "plt.plot(abs(cg_eny), label = 'F(xₖ)')\n",
    "plt.yscale('log')\n",
    "plt.axhline(y = 1e-7, linestyle = ':', color = 'black', label = 'Tolerance')\n",
    "plt.legend(ncols = 2)\n",
    "plt.show()\n",
    "print('Smallest residual at iteration: {0} ({1})'.format(np.argmin(cg_res), np.argmin(cg_opn)) )\n",
    "print('Smallest energy at iteration:', np.argmin(cg_eny))"
   ]
  },
  {
   "cell_type": "code",
   "execution_count": 57,
   "id": "f633ccea",
   "metadata": {
    "hidden": true
   },
   "outputs": [],
   "source": [
    "uₛ = λ * uₒ"
   ]
  },
  {
   "cell_type": "code",
   "execution_count": 58,
   "id": "a7f139ab",
   "metadata": {
    "hidden": true
   },
   "outputs": [
    {
     "name": "stdout",
     "output_type": "stream",
     "text": [
      "Largest residual: 4.25e-14\n"
     ]
    }
   ],
   "source": [
    "print('Largest residual: {0:.2e}'.format(norm(Aᵤᵦ.dot(uₛ) - MV_basis_U_T(λ * ff)[1:], np.inf)))"
   ]
  },
  {
   "cell_type": "markdown",
   "id": "af729baf",
   "metadata": {
    "hidden": true
   },
   "source": [
    "¡Success!"
   ]
  },
  {
   "cell_type": "code",
   "execution_count": 59,
   "id": "2226d93f",
   "metadata": {
    "hidden": true
   },
   "outputs": [],
   "source": [
    "u = np.concatenate( ([MV_basis_U_T(ff)[0]], uₛ) )"
   ]
  },
  {
   "cell_type": "code",
   "execution_count": 60,
   "id": "948d98b6",
   "metadata": {
    "hidden": true
   },
   "outputs": [
    {
     "name": "stdout",
     "output_type": "stream",
     "text": [
      "Largest residual: 3.82e-12\n"
     ]
    }
   ],
   "source": [
    "print('Largest residual: {0:.2e}'.format(norm( MV_basis_U_T(A.dot(MV_basis_U(u))) - λ * MV_basis_U_T(ff), np.inf)))"
   ]
  },
  {
   "cell_type": "code",
   "execution_count": 61,
   "id": "d61251f2",
   "metadata": {
    "hidden": true
   },
   "outputs": [
    {
     "name": "stdout",
     "output_type": "stream",
     "text": [
      "Largest residual: 3.47e-12\n"
     ]
    }
   ],
   "source": [
    "print('Largest residual: {0:.2e}'.format(norm( A.dot(MV_basis_U(u)) - λ * ff, np.inf)))"
   ]
  },
  {
   "cell_type": "markdown",
   "id": "9d4706cf",
   "metadata": {
    "hidden": true
   },
   "source": [
    "We have found a proper solution to the problem at a higher precision than the full system."
   ]
  },
  {
   "cell_type": "markdown",
   "id": "c9c53af4",
   "metadata": {
    "hidden": true
   },
   "source": [
    "**Operator form**"
   ]
  },
  {
   "cell_type": "markdown",
   "id": "5db7f5fe",
   "metadata": {
    "hidden": true
   },
   "source": [
    "Let's replicate this using an operator instead:"
   ]
  },
  {
   "cell_type": "code",
   "execution_count": 63,
   "id": "4cd1adce",
   "metadata": {
    "hidden": true
   },
   "outputs": [
    {
     "name": "stdout",
     "output_type": "stream",
     "text": [
      "83 0\n"
     ]
    }
   ],
   "source": [
    "cg_its, cg_res, cg_opn, cg_eny = 0, [], [], []\n",
    "uₒ, status = cg(MAM, λfᵤ, x0 = Prec_x_0[1:], tol=1e-7, maxiter = 300, M = None, callback = solver_block)\n",
    "print(cg_its, status)"
   ]
  },
  {
   "cell_type": "code",
   "execution_count": 67,
   "id": "ae01fba0",
   "metadata": {
    "code_folding": [
     0
    ],
    "hidden": true
   },
   "outputs": [
    {
     "data": {
      "image/png": "[encoded data removed]",
      "text/plain": [
       "<Figure size 1152x144 with 1 Axes>"
      ]
     },
     "metadata": {
      "needs_background": "light"
     },
     "output_type": "display_data"
    },
    {
     "name": "stdout",
     "output_type": "stream",
     "text": [
      "Smallest residual at iteration: 82 (82)\n",
      "Smallest energy at iteration: 82\n"
     ]
    }
   ],
   "source": [
    "# Plots of residual \n",
    "cg_res, cg_opn, cg_eny = asarray(cg_res), asarray(cg_opn), asarray(cg_eny)\n",
    "p = [None, None]\n",
    "plt.figure(figsize=(16,2))\n",
    "plt.ticklabel_format(style='plain', axis='x', useOffset=False)\n",
    "# Plot ℓ² residuals\n",
    "p[0] = plt.plot(cg_res, label = '‖r‖₂')\n",
    "plt.plot(cg_res/norm(λfᵤ), c = p[0][0].get_color(), linestyle='--', label = '‖r‖₂ / ‖λg‖₂')\n",
    "# Plot A-ℓ² residuals\n",
    "p[1] = plt.plot(cg_opn, label = r'$\\| r \\|_{ (\\mathsf{A}_U)_{(2:n)} }$')\n",
    "plt.plot(cg_opn/( (λfᵤ).dot(MAM(λfᵤ)) )**0.5, c = p[1][0].get_color(), linestyle='--', \n",
    "         label = r'$\\| r \\|_{ (\\mathsf{A}_U)_{(2:n)} } / \\| \\lambda g \\|_{ (\\mathsf{A}_U)_{(2:n)} } $')\n",
    "plt.plot(λ * abs(cg_eny), label = 'λ F(xₖ)')\n",
    "plt.yscale('log')\n",
    "plt.axhline(y = 1e-7, linestyle = ':', color = 'black', label = 'Tolerance')\n",
    "plt.legend(ncols = 2)\n",
    "plt.show()\n",
    "print('Smallest residual at iteration: {0} ({1})'.format(np.argmin(cg_res), np.argmin(cg_opn)) )\n",
    "print('Smallest energy at iteration:', np.argmin(cg_eny))"
   ]
  },
  {
   "cell_type": "code",
   "execution_count": 68,
   "id": "91fe2308",
   "metadata": {
    "hidden": true
   },
   "outputs": [
    {
     "name": "stdout",
     "output_type": "stream",
     "text": [
      "Largest residual (sub-block): 4.25e-14\n",
      "Largest residual (U basis):   3.82e-12\n",
      "Largest residual (original):  3.47e-12\n"
     ]
    }
   ],
   "source": [
    "uₛ = λ * uₒ\n",
    "u = np.concatenate( ([MV_basis_U_T(ff)[0]], uₛ) )\n",
    "\n",
    "print('Largest residual (sub-block): {0:.2e}'.format(norm(Aᵤᵦ.dot(uₛ) - MV_basis_U_T(λ * ff)[1:], np.inf)))\n",
    "print('Largest residual (U basis):   {0:.2e}'.format(norm( MV_basis_U_T(A.dot(MV_basis_U(u))) - λ * MV_basis_U_T(ff), np.inf)))\n",
    "print('Largest residual (original):  {0:.2e}'.format(norm( A.dot(MV_basis_U(u)) - λ * ff, np.inf)))"
   ]
  },
  {
   "cell_type": "markdown",
   "id": "cf32889f",
   "metadata": {
    "hidden": true
   },
   "source": [
    "---"
   ]
  },
  {
   "cell_type": "markdown",
   "id": "bc429976",
   "metadata": {},
   "source": [
    "## What if we added more preconditioners into the mix?"
   ]
  },
  {
   "cell_type": "markdown",
   "id": "079b4d3b",
   "metadata": {},
   "source": [
    "We know that $P_\\mathsf{d}$ is a good preconditioner for $\\lambda$ large. That is, $ P_\\mathsf{d} A $ behaves well numerically and has a bounded condition number when $\\lambda > 1$. In our case, we know that $\\mathsf{A}_U$ is a block matrix and after we remove the first, ill conditioned subblock, the second block has the condition number $ \\frac{\\rho(B) + \\lambda}{a(B) + \\lambda} $. What we would like to understand is if we can apply $P_\\mathsf{d}$, or a projection of it, to the subblock to improve its condition number."
   ]
  },
  {
   "cell_type": "markdown",
   "id": "7b90a368",
   "metadata": {},
   "source": [
    "Notice that $ P_\\mathsf{d} A = U (U^\\top P_\\mathsf{d}U) U^\\top U (U^\\top A U) U^\\top = U (U^\\top P_\\mathsf{d}U) \\mathsf{A}_U U^\\top$, hence the preconditioning properties in $P_\\mathsf{d} A$ would replicate in the operator $(U^\\top P_\\mathsf{d}U) \\mathsf{A}_U$ under the change of basis."
   ]
  },
  {
   "cell_type": "code",
   "execution_count": 69,
   "id": "b15316a1",
   "metadata": {},
   "outputs": [],
   "source": [
    "diag_P = (μ * η + λ)**-1"
   ]
  },
  {
   "cell_type": "code",
   "execution_count": 70,
   "id": "0525c203",
   "metadata": {},
   "outputs": [],
   "source": [
    "U_t_P_U  = U.T.dot(np.diag(diag_P)).dot(U)\n",
    "U_t_Pᴿ_U = U.T.dot(np.diag(diag_P**0.5)).dot(U)"
   ]
  },
  {
   "cell_type": "code",
   "execution_count": 71,
   "id": "6902c97a",
   "metadata": {},
   "outputs": [],
   "source": [
    "# We make a copy for testing\n",
    "UTAU = U_t_A_U.copy()\n",
    "UTAU[0,:] = UTAU[:,0] = 0.0"
   ]
  },
  {
   "cell_type": "code",
   "execution_count": 72,
   "id": "515de09a",
   "metadata": {},
   "outputs": [],
   "source": [
    "Lower_block = U_t_P_U.dot(UTAU + np.diag([λ]*(nm), 0))[1:,1:]\n",
    "Lower_Root_block = (U_t_Pᴿ_U.dot(UTAU + np.diag([λ]*(nm), 0)).dot(U_t_Pᴿ_U))[1:,1:]"
   ]
  },
  {
   "cell_type": "code",
   "execution_count": 73,
   "id": "801ec7b7",
   "metadata": {},
   "outputs": [
    {
     "data": {
      "text/plain": [
       "True"
      ]
     },
     "execution_count": 73,
     "metadata": {},
     "output_type": "execute_result"
    }
   ],
   "source": [
    "allclose(U_t_Pᴿ_U.dot(U_t_Pᴿ_U), U_t_P_U)"
   ]
  },
  {
   "cell_type": "markdown",
   "id": "d11a30fa",
   "metadata": {},
   "source": [
    "An easier way to do this is by the partial product:\n",
    "```Python\n",
    "   allclose((U[:,1:].T).dot(np.diag(diag_P).dot(U[:,1:])), U_t_P_U[1:,1:])\n",
    ">> True\n",
    "   allclose(Lower_block, (U[:,1:].T).dot(np.diag(diag_P).dot(U[:,1:]).dot(UTAU[1:,1:])))\n",
    ">> True\n",
    "```"
   ]
  },
  {
   "cell_type": "markdown",
   "id": "9d92664b",
   "metadata": {},
   "source": [
    "Let's compute the specrtrum of this block, it should be real and we expect it to be concentrated around 1:"
   ]
  },
  {
   "cell_type": "code",
   "execution_count": 74,
   "id": "431b11d4",
   "metadata": {},
   "outputs": [
    {
     "name": "stdout",
     "output_type": "stream",
     "text": [
      "True\n"
     ]
    }
   ],
   "source": [
    "Prec_vals = eigvals(Lower_block, check_finite='false') # Non sqrt product\n",
    "print(allclose(Prec_vals.imag, 0.0))"
   ]
  },
  {
   "cell_type": "code",
   "execution_count": 75,
   "id": "9dce3819",
   "metadata": {},
   "outputs": [],
   "source": [
    "Prec_R_vals = eigvalsh(Lower_Root_block, check_finite='false')"
   ]
  },
  {
   "cell_type": "markdown",
   "id": "7430f2e7",
   "metadata": {},
   "source": [
    "With these values we can compute the condition number of the preconditioned system:"
   ]
  },
  {
   "cell_type": "code",
   "execution_count": 76,
   "id": "b5c24011",
   "metadata": {
    "code_folding": [
     0,
     2
    ]
   },
   "outputs": [
    {
     "data": {
      "text/latex": [
       " $\\kappa( P_{\\mathsf{d}} (\\mathsf{A}_U)_{ \\{2:n,2:n\\} } ) = $ 1.4e+00"
      ],
      "text/plain": [
       "<IPython.core.display.Latex object>"
      ]
     },
     "metadata": {},
     "output_type": "display_data"
    },
    {
     "data": {
      "text/latex": [
       "$\\kappa( P_{\\mathsf{d}}^{1/2} (\\mathsf{A}_U)_{ \\{2:n,2:n\\} }P_{{\\mathsf{{d}}}}^{{1/2}} ) = $ 1.4e+00"
      ],
      "text/plain": [
       "<IPython.core.display.Latex object>"
      ]
     },
     "metadata": {},
     "output_type": "display_data"
    }
   ],
   "source": [
    "display(Latex(f' $\\\\kappa( P_{{\\\\mathsf{{d}}}} (\\\\mathsf{{A}}_U)_{{ \\\\{{2:n,2:n\\\\}} }} ) = $ '\n",
    "              +'{0:.1e}'.format( Prec_vals.real.max()/Prec_vals.real.min() ) ))\n",
    "display(Latex(f'$\\\\kappa( P_{{\\\\mathsf{{d}}}}^{{1/2}} (\\\\mathsf{{A}}_U)_{{ \\\\{{2:n,2:n\\\\}} }}' +\n",
    "              'P_{{\\\\mathsf{{d}}}}^{{1/2}} ) = $ '\n",
    "              +'{0:.1e}'.format( Prec_R_vals.real.max()/Prec_R_vals.real.min() )\n",
    "             )\n",
    "       )"
   ]
  },
  {
   "cell_type": "markdown",
   "id": "a28975c4",
   "metadata": {},
   "source": [
    "We observe a significant decrease. Let us compare it against the condition number of the whole system and the relevant subblock:"
   ]
  },
  {
   "cell_type": "code",
   "execution_count": 79,
   "id": "9a33158b",
   "metadata": {},
   "outputs": [],
   "source": [
    "a_B, ρ_B = Whole_Spectrum[1] + λ, Whole_Spectrum[-1] + λ"
   ]
  },
  {
   "cell_type": "code",
   "execution_count": 80,
   "id": "403a9f7b",
   "metadata": {
    "code_folding": [
     0
    ]
   },
   "outputs": [
    {
     "data": {
      "text/latex": [
       "$\\kappa( \\mathsf{A}_U ) \\big/ \\kappa( P_{\\mathsf{d}}  \\mathsf{A}_U ) = $ 2e+10"
      ],
      "text/plain": [
       "<IPython.core.display.Latex object>"
      ]
     },
     "metadata": {},
     "output_type": "display_data"
    }
   ],
   "source": [
    "display(Latex(f'$\\\\kappa( \\\\mathsf{{A}}_U ) \\\\big/ \\\\kappa( P_{{\\\\mathsf{{d}}}}  \\\\mathsf{{A}}_U ) = $ '\n",
    "              +'{0:.0e}'.format( (ρ_B+λ)/(λ) * (Prec_vals.real.min()/Prec_vals.real.max()) )))"
   ]
  },
  {
   "cell_type": "code",
   "execution_count": 84,
   "id": "fd128776",
   "metadata": {
    "code_folding": [
     0
    ]
   },
   "outputs": [
    {
     "data": {
      "text/latex": [
       "$\\kappa\\big( (\\mathsf{A}_U)_{ \\{2:n,2:n\\} } \\big) \\big/ \\kappa\\big( P_{{\\mathsf{{d}}}}  (\\mathsf{{A}}_U)_{{ \\{{2:n,2:n\\}} }} \\big) = $ 9e+01"
      ],
      "text/plain": [
       "<IPython.core.display.Latex object>"
      ]
     },
     "metadata": {},
     "output_type": "display_data"
    }
   ],
   "source": [
    "display(Latex(f'$\\\\kappa\\\\big( (\\\\mathsf{{A}}_U)_{{ \\\\{{2:n,2:n\\\\}} }} \\\\big) \\\\big/ '\n",
    "              + '\\\\kappa\\\\big( P_{{\\\\mathsf{{d}}}}  (\\\\mathsf{{A}}_U)_{{ \\\\{{2:n,2:n\\\\}} }} \\\\big) = $ '\n",
    "              +'{0:.0e}'.format( (ρ_B+λ)/(a_B+λ) * (Prec_vals.real.min()/Prec_vals.real.max()) )))"
   ]
  },
  {
   "cell_type": "code",
   "execution_count": 85,
   "id": "92da9466",
   "metadata": {},
   "outputs": [
    {
     "data": {
      "text/plain": [
       "(126.15466394323911, 1.3822503654269114)"
      ]
     },
     "execution_count": 85,
     "metadata": {},
     "output_type": "execute_result"
    }
   ],
   "source": [
    "(ρ_B+λ)/(a_B+λ), (Prec_vals.real.max()/Prec_vals.real.min())"
   ]
  },
  {
   "cell_type": "markdown",
   "id": "08c78994",
   "metadata": {},
   "source": [
    "We see that the diagonal preconditioner almost inverts the matrix."
   ]
  },
  {
   "cell_type": "code",
   "execution_count": 95,
   "id": "874d6d45",
   "metadata": {
    "code_folding": [
     0
    ]
   },
   "outputs": [
    {
     "data": {
      "image/png": "[encoded data removed]",
      "text/plain": [
       "<Figure size 1224x288 with 2 Axes>"
      ]
     },
     "metadata": {},
     "output_type": "display_data"
    }
   ],
   "source": [
    "# Effects of the preconditioners\n",
    "\n",
    "fig, ax = plt.subplots(1, 2, sharey=True, facecolor='w', figsize=(17,4), width_ratios = [1/10, 1-1/10])\n",
    "#fig, ax = plt.subplots(1, 2, sharey=True, facecolor='w', figsize=(13,6), width_ratios = [1/10, 1-1/10])\n",
    "\n",
    "# plot the same data on both axes\n",
    "ax[0].scatter(Whole_Spectrum + λ, [1]*nm, s = 90, alpha = 0.4, marker = 'o', \n",
    "            edgecolors='black', facecolors='none')\n",
    "ax[1].scatter(Whole_Spectrum[1:] + λ, [1]*(nm-1), s = 90, alpha = 0.4, marker = 'o', \n",
    "            edgecolors='black', facecolors='none')\n",
    "\n",
    "ax[0].axvline(x=λ, ymax = 0.98*(1.35+0.5)/2.5, color='xkcd:plum', linestyle='-')\n",
    "ax[1].axvline(x=λ, color='xkcd:plum', linestyle='-', label='Regulariser weight $\\\\lambda$')\n",
    "ax[0].scatter(λ, [1.], s = 90, alpha = 1, marker = 'o', edgecolors='black', facecolors='white')\n",
    "ax[1].scatter(λ, [1.], s = 90, alpha = 1, marker = 'o', \n",
    "            edgecolors='black', facecolors='none', label='Exact eigenvalues')\n",
    "\n",
    "# Preconditioner dependent values\n",
    "ax[1].scatter(Prec_vals, [0.5]*(nm-1), s = 95, alpha = 0.3, marker = '>', \n",
    "                color='xkcd:orange', facecolors='none')\n",
    "ax[1].scatter(Prec_vals[-1], [0.5], s = 95, alpha = 1, marker = '>', \n",
    "                color='xkcd:orange', facecolors='none', label='Left')\n",
    "\n",
    "ax[1].scatter(Prec_R_vals, [0.0]*(nm-1), s = 95, alpha = 0.3, marker = '>', \n",
    "                color='xkcd:magenta', facecolors='none')\n",
    "ax[1].scatter(Prec_R_vals[-1], [0.0], s = 95, alpha = 1, marker = '>', \n",
    "                color='xkcd:magenta', facecolors='none', label='Symmetric')\n",
    "\n",
    "\n",
    "# Define domain of each part\n",
    "ax[0].set_xlim(0, 2e-9)\n",
    "ax[1].set_xlim(1.3e-1, 2.5e+1)\n",
    "plt.ylim(-0.5, 1.5)\n",
    "\n",
    "\n",
    "# hide the spines between ax[0] and ax[1]\n",
    "ax[0].spines['right'].set_visible(False)\n",
    "ax[1].spines['left'].set_visible(False)\n",
    "#ax[0].tick_params(labelleft=False, left=False)\n",
    "ax[1].tick_params(labelleft=False, left=False)\n",
    "\n",
    "#plt.xscale('log')\n",
    "ax[0].set_xscale('symlog')\n",
    "ax[1].set_xscale('log')\n",
    "\n",
    "# Diagonal lines\n",
    "b_d = .017  # how big to make the diagonal lines in axes coordinates\n",
    "# arguments to pass plot, just so we don't keep repeating them\n",
    "kwargs = dict(transform=ax[0].transAxes, color='k', clip_on=False)\n",
    "ax[0].plot((1-b_d, 1+b_d), (1-b_d, 1+b_d), **kwargs)\n",
    "ax[0].plot((1-b_d, 1+b_d), (-b_d, +b_d), **kwargs)\n",
    "\n",
    "ax[0].plot((1+2*b_d, 1+4*b_d), (1-b_d, 1+b_d), **kwargs)\n",
    "ax[0].plot((1+2*b_d, 1+4*b_d), (-b_d, +b_d), **kwargs)\n",
    "\n",
    "# Adjust spacing between the two plots\n",
    "plt.subplots_adjust(wspace=0.07)\n",
    "\n",
    "# Add grid lines\n",
    "plt.grid('on', which = 'major', linewidth = 0.2)\n",
    "ax[1].yaxis.grid(False)\n",
    "\n",
    "# Add more ticks in x-axis\n",
    "ax_base = [-1,-1,-1, 0,0,1,1]\n",
    "ax_val  = [ 1.4, 2, 4, 1,3,1,2]\n",
    "ax_loc  = ax_val * 10.0**asarray(ax_base)\n",
    "ax_lbl  = [plt.Text(a[0], 0, '$\\\\mathdefault{10^{' + '{0}'.format(a[1]) + '}}$' )  if a[2] == 1 else \n",
    "           plt.Text(a[0], 0, '$\\\\mathdefault{' + '{}'.format(a[2]) +' \\\\times 10^{'+'{0}'.format(a[1]) +'}}$' )  \n",
    "           for a in zip(ax_loc, ax_base, ax_val) ]\n",
    "#plt.xticks(ax_loc, ax_lbl )\n",
    "ax[1].set_xticks(ax_loc, ax_lbl)\n",
    "\n",
    "ax[0].set_xticks([0, 1e-9], \n",
    "                 [plt.Text(0,0, '$\\\\mathdefault{0}$'), plt.Text(1e-9, 0, '$\\\\mathdefault{ 10^{-9} }$')])\n",
    "\n",
    "# Add vertical labels\n",
    "ax[0].set_yticks([])\n",
    "\n",
    "\n",
    "# Present legend\n",
    "unique_label_indx = np.unique(ax[1].get_legend_handles_labels()[1], return_index=True)[1]\n",
    "unique_label_indx.sort()\n",
    "new_labels = [ax[1].get_legend_handles_labels()[1][i] for i in unique_label_indx]\n",
    "handles    = [ax[1].get_legend_handles_labels()[0][i] for i in unique_label_indx]\n",
    "ax[1].legend(handles=handles, labels=new_labels, loc='lower right')\n",
    "\n",
    "fig.supxlabel(r'Eigenvalues of $P_{\\ell(\\lambda)} \\mathsf{A}_U$', y=-0.02)\n",
    "#fig.supxlabel(r'Eigenvalues of $P_{\\ell(\\lambda)} \\mathsf{A}_U$', y=0.03, size = 'large')\n",
    "\n",
    "#fig.savefig('Leverage_Case_1_kappa_50_Condition.pdf', bbox_inches='tight', pad_inches=0)\n",
    "# Finally show the plot\n",
    "plt.show()"
   ]
  },
  {
   "cell_type": "markdown",
   "id": "f63ddf3e",
   "metadata": {},
   "source": [
    "Now let's solve the preconditioned system:"
   ]
  },
  {
   "cell_type": "code",
   "execution_count": 88,
   "id": "09d00938",
   "metadata": {},
   "outputs": [
    {
     "name": "stdout",
     "output_type": "stream",
     "text": [
      "7 0\n"
     ]
    }
   ],
   "source": [
    "cg_its, cg_res, cg_opn, cg_eny = 0, [], [], []\n",
    "uₚ, status = cg(Aᵤᵦ, λfᵤ, x0 = Prec_x_0[1:], \n",
    "               tol=1e-7, maxiter = 300, M = U_t_P_U[1:,1:], callback = solver_block)#, atol=1e-4)\n",
    "print(cg_its, status)"
   ]
  },
  {
   "cell_type": "code",
   "execution_count": 89,
   "id": "38335bfe",
   "metadata": {
    "code_folding": [
     0
    ]
   },
   "outputs": [
    {
     "data": {
      "image/png": "[encoded data removed]",
      "text/plain": [
       "<Figure size 1152x216 with 1 Axes>"
      ]
     },
     "metadata": {
      "needs_background": "light"
     },
     "output_type": "display_data"
    },
    {
     "name": "stdout",
     "output_type": "stream",
     "text": [
      "Smallest residual at iteration: 6 (6)\n",
      "Smallest energy at iteration: 6\n"
     ]
    }
   ],
   "source": [
    "# Plots of residual \n",
    "cg_res, cg_opn, cg_eny = asarray(cg_res), asarray(cg_opn), asarray(cg_eny)\n",
    "p = [None, None]\n",
    "plt.figure(figsize=(16,3))\n",
    "plt.ticklabel_format(style='plain', axis='x', useOffset=False)\n",
    "# Plot ℓ² residuals\n",
    "p[0] = plt.plot(cg_res, label = '‖r‖₂')\n",
    "plt.plot(cg_res/norm(λfᵤ), c = p[0][0].get_color(), linestyle='--', label = '‖r‖₂ / ‖λg‖₂')\n",
    "# Plot A-ℓ² residuals\n",
    "p[1] = plt.plot(cg_opn, label = r'$\\| r \\|_{ (\\mathsf{A}_U)_{(2:n)} }$')\n",
    "plt.plot(cg_opn/( (λfᵤ).dot(Aᵤᵦ.dot(λfᵤ)) )**0.5, c = p[1][0].get_color(), linestyle='--', \n",
    "         label = r'$\\| r \\|_{ (\\mathsf{A}_U)_{(2:n)} } / \\| \\lambda g \\|_{ (\\mathsf{A}_U)_{(2:n)} } $')\n",
    "plt.plot(λ * abs(cg_eny), label = 'λ F(xₖ)')\n",
    "plt.yscale('log')\n",
    "plt.axhline(y = 1e-7, linestyle = ':', color = 'black', label = 'Tolerance')\n",
    "plt.legend(ncols = 2)\n",
    "plt.show()\n",
    "print('Smallest residual at iteration: {0} ({1})'.format(np.argmin(cg_res), np.argmin(cg_opn)) )\n",
    "print('Smallest energy at iteration:', np.argmin(cg_eny))"
   ]
  },
  {
   "cell_type": "code",
   "execution_count": 92,
   "id": "60aa55f9",
   "metadata": {},
   "outputs": [
    {
     "name": "stdout",
     "output_type": "stream",
     "text": [
      "Error against previous solution: 5.93e-08\n",
      "Largest residual (sub-block): 2.74e-15\n",
      "Largest residual (U basis):   3.82e-12\n",
      "Largest residual (original):  3.47e-12\n"
     ]
    }
   ],
   "source": [
    "uₛ = λ * uₚ\n",
    "u = np.concatenate( ([MV_basis_U_T(ff)[0]], uₛ) )\n",
    "print('Error against previous solution: {0:.2e}'.format(norm(uₚ - uₒ)/norm(uₒ)))\n",
    "print('Largest residual (sub-block): {0:.2e}'.format(norm(Aᵤᵦ.dot(uₛ) - MV_basis_U_T(λ * ff)[1:], np.inf)))\n",
    "print('Largest residual (U basis):   {0:.2e}'.format(norm( MV_basis_U_T(A.dot(MV_basis_U(u))) - λ * MV_basis_U_T(ff), np.inf)))\n",
    "print('Largest residual (original):  {0:.2e}'.format(norm( A.dot(MV_basis_U(u)) - λ * ff, np.inf)))"
   ]
  },
  {
   "cell_type": "markdown",
   "id": "1665669d",
   "metadata": {},
   "source": [
    "¡Success!"
   ]
  },
  {
   "cell_type": "markdown",
   "id": "12452887",
   "metadata": {},
   "source": [
    "**Operator form**"
   ]
  },
  {
   "cell_type": "markdown",
   "id": "1fc807f2",
   "metadata": {},
   "source": [
    "Let's replicate this using an operator instead:"
   ]
  },
  {
   "cell_type": "code",
   "execution_count": 96,
   "id": "86ae1ac7",
   "metadata": {},
   "outputs": [],
   "source": [
    "# Define subblock of system\n",
    "def Proj_Prec_Diag(v):\n",
    "    # Project back v, change basis by U, apply A, then U.T, and project; i.e., (P U.T A U) P.T v\n",
    "    w = np.concatenate( ([0.0], v) )\n",
    "    w = MV_basis_U_T( diag_P * MV_basis_U( w ) )\n",
    "    return w[1:]\n",
    "\n",
    "UDU = LinearOperator((nm-1,nm-1), dtype=np.float64, matvec=Proj_Prec_Diag, rmatvec=Proj_Prec_Diag)"
   ]
  },
  {
   "cell_type": "code",
   "execution_count": 106,
   "id": "cbb74ff6",
   "metadata": {},
   "outputs": [
    {
     "name": "stdout",
     "output_type": "stream",
     "text": [
      "7 0\n"
     ]
    }
   ],
   "source": [
    "cg_its, cg_res, cg_opn, cg_eny = 0, [], [], []\n",
    "uₚ, status = cg(MAM, λfᵤ, x0 = Prec_x_0[1:], tol=1e-7, maxiter = 300, M = UDU, callback = solver_block_op)\n",
    "print(cg_its, status)"
   ]
  },
  {
   "cell_type": "code",
   "execution_count": 107,
   "id": "bdb16333",
   "metadata": {
    "code_folding": [
     0
    ]
   },
   "outputs": [
    {
     "data": {
      "image/png": "[encoded data removed]",
      "text/plain": [
       "<Figure size 1152x144 with 1 Axes>"
      ]
     },
     "metadata": {
      "needs_background": "light"
     },
     "output_type": "display_data"
    },
    {
     "name": "stdout",
     "output_type": "stream",
     "text": [
      "Smallest residual at iteration: 6 (6)\n",
      "Smallest energy at iteration: 6\n"
     ]
    }
   ],
   "source": [
    "# Plots of residual \n",
    "cg_res, cg_opn, cg_eny = asarray(cg_res), asarray(cg_opn), asarray(cg_eny)\n",
    "p = [None, None]\n",
    "plt.figure(figsize=(16,2))\n",
    "plt.ticklabel_format(style='plain', axis='x', useOffset=False)\n",
    "# Plot ℓ² residuals\n",
    "p[0] = plt.plot(cg_res, label = '‖r‖₂')\n",
    "plt.plot(cg_res/norm(λfᵤ), c = p[0][0].get_color(), linestyle='--', label = '‖r‖₂ / ‖λg‖₂')\n",
    "# Plot A-ℓ² residuals\n",
    "p[1] = plt.plot(cg_opn, label = r'$\\| r \\|_{ (\\mathsf{A}_U)_{(2:n)} }$')\n",
    "plt.plot(cg_opn/( (λfᵤ).dot(MAM(λfᵤ)) )**0.5, c = p[1][0].get_color(), linestyle='--', \n",
    "         label = r'$\\| r \\|_{ (\\mathsf{A}_U)_{(2:n)} } / \\| \\lambda g \\|_{ (\\mathsf{A}_U)_{(2:n)} } $')\n",
    "plt.plot(λ * abs(cg_eny), label = 'λ F(xₖ)')\n",
    "plt.yscale('log')\n",
    "plt.axhline(y = 1e-7, linestyle = ':', color = 'black', label = 'Tolerance')\n",
    "plt.legend(ncols = 2)\n",
    "plt.show()\n",
    "print('Smallest residual at iteration: {0} ({1})'.format(np.argmin(cg_res), np.argmin(cg_opn)) )\n",
    "print('Smallest energy at iteration:', np.argmin(cg_eny))"
   ]
  },
  {
   "cell_type": "code",
   "execution_count": 108,
   "id": "298dc7b1",
   "metadata": {},
   "outputs": [
    {
     "name": "stdout",
     "output_type": "stream",
     "text": [
      "Error against previous solution: 5.93e-08\n",
      "Largest residual (sub-block): 2.74e-15\n",
      "Largest residual (U basis):   3.82e-12\n",
      "Largest residual (original):  3.47e-12\n"
     ]
    }
   ],
   "source": [
    "uₛ = λ * uₚ\n",
    "u = np.concatenate( ([MV_basis_U_T(ff)[0]], uₛ) )\n",
    "#u = np.concatenate( ([ff.sum()/nm**0.5], uₛ) )\n",
    "print('Error against previous solution: {0:.2e}'.format(norm(uₚ - uₒ)/norm(uₒ)))\n",
    "print('Largest residual (sub-block): {0:.2e}'.format(norm(Aᵤᵦ.dot(uₛ) - MV_basis_U_T(λ * ff)[1:], np.inf)))\n",
    "print('Largest residual (U basis):   {0:.2e}'.format(norm( MV_basis_U_T(A.dot(MV_basis_U(u))) - λ * MV_basis_U_T(ff), np.inf)))\n",
    "print('Largest residual (original):  {0:.2e}'.format(norm( A.dot(MV_basis_U(u)) - λ * ff, np.inf)))"
   ]
  },
  {
   "cell_type": "markdown",
   "id": "4a27c053",
   "metadata": {},
   "source": [
    "---"
   ]
  },
  {
   "cell_type": "markdown",
   "id": "677d5c67",
   "metadata": {},
   "source": [
    "## Other decompositions:"
   ]
  },
  {
   "cell_type": "markdown",
   "id": "531716b3",
   "metadata": {},
   "source": [
    "One problem with using $U$ as a change of basis is that it can suffer from the limitations of floating point arithmetic. To see this notice that $D_n$ has the entry $ (n^2 - n)^{-1/2} $ which can become very small for large problems."
   ]
  },
  {
   "cell_type": "markdown",
   "id": "ec66a452",
   "metadata": {},
   "source": [
    "To see this, consider the floating point resolution we are using in this notebook (i.e., $10^{-15}$). We have that $(n^2 - n)^{-1/2} = 10^{-15}$ from which we obtain that $n \\approx 1 + 2 \\times 10^{15}$. So as long as $n$ is smaller than this size, we should not worry."
   ]
  },
  {
   "cell_type": "markdown",
   "id": "a7e88357",
   "metadata": {},
   "source": [
    "However, in case this becomes of use for exa-scale systems, we could instead use $Q$ as it does not involve any square roots or large divisions except from a mean. There is only one issue: We will not have a symmetric system anymore, so a solver for non-symmetric positive semidefinite matrices."
   ]
  },
  {
   "cell_type": "code",
   "execution_count": 125,
   "id": "3ca4afb4",
   "metadata": {},
   "outputs": [],
   "source": [
    "Q = -np.eye(nm);    Q[0,:] = Q[:,0] = 1.0\n",
    "Q_i = nm**-1 * ones([nm,nm]) - np.diag([0.0] + list(np.ones(nm-1)) ) "
   ]
  },
  {
   "cell_type": "code",
   "execution_count": 126,
   "id": "0c9b7ea9",
   "metadata": {},
   "outputs": [],
   "source": [
    "Q_i_A_Q = Q_i.dot( np.diag(0.0 * ones(nm)) + μ * ( np.diag(η) - ANOVA ) ).dot(Q)\n",
    "Q_i_A_Q[0] = Q_i_A_Q[:,0] = 0.0"
   ]
  },
  {
   "cell_type": "code",
   "execution_count": 154,
   "id": "82aa5c83",
   "metadata": {},
   "outputs": [],
   "source": [
    "# Basis change only depends on the dimension of the image, so we only have to define it once\n",
    "e_1     = zeros(nm);       e_1[0] = 1.0\n",
    "not_e_1 = ones(nm);    not_e_1[0] = 0.0\n",
    "#def MV_basis_Qi(v):        return (v.sum() / nm) - (v * not_e_1)        # This is self-adjoint \n",
    "def MV_basis_Q_i(v):       return v.mean() - (v * not_e_1)              # This is self-adjoint \n",
    "def MV_basis_Q(v):         return (v[0] - v) + (v.sum() * e_1)          # This is self-adjoint "
   ]
  },
  {
   "cell_type": "markdown",
   "id": "870b66dd",
   "metadata": {},
   "source": [
    "Let us use BiCGStab"
   ]
  },
  {
   "cell_type": "code",
   "execution_count": 170,
   "id": "ce9a8386",
   "metadata": {},
   "outputs": [],
   "source": [
    "Aᵤᵦ = Q_i_A_Q[1:,1:] + np.diag([λ]*(nm-1), 0)\n",
    "λfᵤ = MV_basis_Q_i(ff)[1:]      # Project RHS\n",
    "Prec_x_0 = MV_basis_Q_i(ff)     # Project initial solution"
   ]
  },
  {
   "cell_type": "code",
   "execution_count": 171,
   "id": "8bef6193",
   "metadata": {},
   "outputs": [],
   "source": [
    "Q_i_P_Q  = Q_i.dot(np.diag(diag_P)).dot(Q)"
   ]
  },
  {
   "cell_type": "code",
   "execution_count": 172,
   "id": "8ad559e5",
   "metadata": {},
   "outputs": [
    {
     "name": "stdout",
     "output_type": "stream",
     "text": [
      "4 0\n"
     ]
    }
   ],
   "source": [
    "cg_its, cg_res, cg_opn, cg_eny = 0, [], [], []\n",
    "uₚ, status = bicgstab(Aᵤᵦ, λfᵤ, x0 = Prec_x_0[1:], \n",
    "               tol=1e-7, maxiter = 300, M = Q_i_P_Q[1:,1:], callback = solver_block)#, atol=1e-4)\n",
    "print(cg_its, status)"
   ]
  },
  {
   "cell_type": "code",
   "execution_count": 173,
   "id": "118fad1f",
   "metadata": {
    "code_folding": [
     0
    ],
    "scrolled": true
   },
   "outputs": [
    {
     "data": {
      "image/png": "[encoded data removed]",
      "text/plain": [
       "<Figure size 1152x216 with 1 Axes>"
      ]
     },
     "metadata": {
      "needs_background": "light"
     },
     "output_type": "display_data"
    },
    {
     "name": "stdout",
     "output_type": "stream",
     "text": [
      "Smallest residual at iteration: 3 (3)\n",
      "Smallest energy at iteration: 1\n"
     ]
    }
   ],
   "source": [
    "# Plots of residual \n",
    "cg_res, cg_opn, cg_eny = asarray(cg_res), asarray(cg_opn), asarray(cg_eny)\n",
    "p = [None, None]\n",
    "plt.figure(figsize=(16,3))\n",
    "plt.ticklabel_format(style='plain', axis='x', useOffset=False)\n",
    "# Plot ℓ² residuals\n",
    "p[0] = plt.plot(cg_res, label = '‖r‖₂')\n",
    "plt.plot(cg_res/norm(λfᵤ), c = p[0][0].get_color(), linestyle='--', label = '‖r‖₂ / ‖λg‖₂')\n",
    "# Plot A-ℓ² residuals\n",
    "p[1] = plt.plot(cg_opn, label = r'$\\| r \\|_{ (\\mathsf{A}_U)_{(2:n)} }$')\n",
    "plt.plot(cg_opn/( (λfᵤ).dot(Aᵤᵦ.dot(λfᵤ)) )**0.5, c = p[1][0].get_color(), linestyle='--', \n",
    "         label = r'$\\| r \\|_{ (\\mathsf{A}_U)_{(2:n)} } / \\| \\lambda g \\|_{ (\\mathsf{A}_U)_{(2:n)} } $')\n",
    "plt.plot(λ * abs(cg_eny), label = 'λ F(xₖ)')\n",
    "plt.yscale('log')\n",
    "plt.axhline(y = 1e-7, linestyle = ':', color = 'black', label = 'Tolerance')\n",
    "plt.legend(ncols = 2)\n",
    "plt.show()\n",
    "print('Smallest residual at iteration: {0} ({1})'.format(np.argmin(cg_res), np.argmin(cg_opn)) )\n",
    "print('Smallest energy at iteration:', np.argmin(cg_eny))"
   ]
  },
  {
   "cell_type": "code",
   "execution_count": 175,
   "id": "0035fe9f",
   "metadata": {},
   "outputs": [
    {
     "name": "stdout",
     "output_type": "stream",
     "text": [
      "Largest residual (sub-block): 1.38e-15\n",
      "Largest residual (U basis):   1.51e-12\n",
      "Largest residual (original):  1.50e-12\n"
     ]
    }
   ],
   "source": [
    "uₛ = λ * uₚ\n",
    "u = np.concatenate( ([MV_basis_Q_i(ff)[0]], uₛ) )\n",
    "print('Largest residual (sub-block): {0:.2e}'.format(norm(Aᵤᵦ.dot(uₛ) - MV_basis_Q_i(λ * ff)[1:], np.inf)))\n",
    "print('Largest residual (U basis):   {0:.2e}'.format(norm( MV_basis_Q_i(A.dot(MV_basis_Q(u))) - λ * MV_basis_Q_i(ff), np.inf)))\n",
    "print('Largest residual (original):  {0:.2e}'.format(norm( A.dot(MV_basis_Q(u)) - λ * ff, np.inf)))"
   ]
  },
  {
   "cell_type": "markdown",
   "id": "ac991073",
   "metadata": {},
   "source": [
    "It seems we have achieved an even better solution than before in less iterations! To compare, notice the following code that requires a very tight tolerance, in this case we achieve the same result as before:"
   ]
  },
  {
   "cell_type": "code",
   "execution_count": 188,
   "id": "25cbc33f",
   "metadata": {},
   "outputs": [
    {
     "name": "stdout",
     "output_type": "stream",
     "text": [
      "7 0\n"
     ]
    }
   ],
   "source": [
    "cg_its, cg_res, cg_opn, cg_eny = 0, [], [], []\n",
    "uₚ, status = bicgstab(Aᵤᵦ, λfᵤ, x0 = Prec_x_0[1:], \n",
    "               tol=1e-15, maxiter = 300, M = Q_i_P_Q[1:,1:], callback = solver_block)#, atol=1e-4)\n",
    "print(cg_its, status)"
   ]
  },
  {
   "cell_type": "code",
   "execution_count": 189,
   "id": "3d5515bc",
   "metadata": {
    "code_folding": [
     0
    ],
    "scrolled": true
   },
   "outputs": [
    {
     "data": {
      "image/png": "[encoded data removed]",
      "text/plain": [
       "<Figure size 1152x144 with 1 Axes>"
      ]
     },
     "metadata": {
      "needs_background": "light"
     },
     "output_type": "display_data"
    },
    {
     "name": "stdout",
     "output_type": "stream",
     "text": [
      "Smallest residual at iteration: 6 (6)\n",
      "Smallest energy at iteration: 1\n"
     ]
    }
   ],
   "source": [
    "# Plots of residual \n",
    "cg_res, cg_opn, cg_eny = asarray(cg_res), asarray(cg_opn), asarray(cg_eny)\n",
    "p = [None, None]\n",
    "plt.figure(figsize=(16,2))\n",
    "plt.ticklabel_format(style='plain', axis='x', useOffset=False)\n",
    "# Plot ℓ² residuals\n",
    "p[0] = plt.plot(cg_res, label = '‖r‖₂')\n",
    "plt.plot(cg_res/norm(λfᵤ), c = p[0][0].get_color(), linestyle='--', label = '‖r‖₂ / ‖λg‖₂')\n",
    "# Plot A-ℓ² residuals\n",
    "p[1] = plt.plot(cg_opn, label = r'$\\| r \\|_{ (\\mathsf{A}_U)_{(2:n)} }$')\n",
    "plt.plot(cg_opn/( (λfᵤ).dot(Aᵤᵦ.dot(λfᵤ)) )**0.5, c = p[1][0].get_color(), linestyle='--', \n",
    "         label = r'$\\| r \\|_{ (\\mathsf{A}_U)_{(2:n)} } / \\| \\lambda g \\|_{ (\\mathsf{A}_U)_{(2:n)} } $')\n",
    "plt.plot(λ * abs(cg_eny), label = 'λ F(xₖ)')\n",
    "plt.yscale('log')\n",
    "plt.axhline(y = 1e-7, linestyle = ':', color = 'black', label = 'Tolerance')\n",
    "plt.legend(ncols = 2)\n",
    "plt.show()\n",
    "print('Smallest residual at iteration: {0} ({1})'.format(np.argmin(cg_res), np.argmin(cg_opn)) )\n",
    "print('Smallest energy at iteration:', np.argmin(cg_eny))"
   ]
  },
  {
   "cell_type": "code",
   "execution_count": 191,
   "id": "4d7dd2e3",
   "metadata": {},
   "outputs": [
    {
     "name": "stdout",
     "output_type": "stream",
     "text": [
      "Largest residual (sub-block): 2.74e-21\n",
      "Largest residual (U basis):   1.42e-12\n",
      "Largest residual (original):  1.43e-12\n"
     ]
    }
   ],
   "source": [
    "uₛ = λ * uₚ\n",
    "u = np.concatenate( ([MV_basis_Q_i(ff)[0]], uₛ) )\n",
    "#u = np.concatenate( ([ff.mean()], uₛ) )\n",
    "print('Largest residual (sub-block): {0:.2e}'.format(norm(Aᵤᵦ.dot(uₛ) - MV_basis_Q_i(λ * ff)[1:], np.inf)))\n",
    "print('Largest residual (U basis):   {0:.2e}'.format(norm( MV_basis_Q_i(A.dot(MV_basis_Q(u))) - λ * MV_basis_Q_i(ff), np.inf)))\n",
    "print('Largest residual (original):  {0:.2e}'.format(norm( A.dot(MV_basis_Q(u)) - λ * ff, np.inf)))"
   ]
  },
  {
   "cell_type": "code",
   "execution_count": 192,
   "id": "f823aabc",
   "metadata": {},
   "outputs": [],
   "source": [
    "uₒ = u.copy()"
   ]
  },
  {
   "cell_type": "markdown",
   "id": "0cc39556",
   "metadata": {},
   "source": [
    "¡Success!"
   ]
  },
  {
   "cell_type": "markdown",
   "id": "a669d820",
   "metadata": {},
   "source": [
    "**Operator form**"
   ]
  },
  {
   "cell_type": "markdown",
   "id": "580869c3",
   "metadata": {},
   "source": [
    "Let's replicate this using an operator instead:"
   ]
  },
  {
   "cell_type": "code",
   "execution_count": 248,
   "id": "4427827c",
   "metadata": {},
   "outputs": [],
   "source": [
    "# Define subblock of system\n",
    "def MV_basis_QiAQ(v):\n",
    "    # Project back v, change basis by U, apply A, then U.T, and project; i.e., (P Q.i A Q) P.T v\n",
    "    w = np.concatenate( ([0.0], v) )\n",
    "    w = MV_basis_Q_i( A.dot( MV_basis_Q( w ) ) )\n",
    "    return w[1:]\n",
    "def MV_basis_QAQi_T(v):\n",
    "    # Project back v, change basis by U, apply A, then U.T, and project; i.e., (P Q A Q.i) P.T v\n",
    "    w = np.concatenate( ([0.0], v) )\n",
    "    w = MV_basis_Q( A.dot( MV_basis_Q_i( w ) ) )\n",
    "    return w[1:]\n",
    "\n",
    "MAM = LinearOperator((nm-1,nm-1), dtype=np.float64, matvec=MV_basis_QiAQ, rmatvec=MV_basis_QAQi_T)"
   ]
  },
  {
   "cell_type": "code",
   "execution_count": 249,
   "id": "0a23e8e6",
   "metadata": {},
   "outputs": [],
   "source": [
    "# Define subblock of system\n",
    "def Proj_Prec_Q_Diag(v):\n",
    "    # Project back v, change basis by U, apply A, then U.T, and project; i.e., (P U.T D U) P.T v\n",
    "    w = np.concatenate( ([0.0], v) )\n",
    "    w = MV_basis_Q_i( diag_P * MV_basis_Q( w ) )\n",
    "    return w[1:]\n",
    "def Proj_Prec_Q_Diag_T(v):\n",
    "    # Project back v, change basis by U, apply A, then U.T, and project; i.e., (P U.T D U) P.T v\n",
    "    w = np.concatenate( ([0.0], v) )\n",
    "    w = MV_basis_Q( diag_P * MV_basis_Q_i( w ) )\n",
    "    return w[1:]\n",
    "\n",
    "QDQ = LinearOperator((nm-1,nm-1), dtype=np.float64, matvec=Proj_Prec_Q_Diag, rmatvec=Proj_Prec_Q_Diag_T)"
   ]
  },
  {
   "cell_type": "code",
   "execution_count": 250,
   "id": "483fcc9a",
   "metadata": {},
   "outputs": [
    {
     "name": "stdout",
     "output_type": "stream",
     "text": [
      "4 0\n"
     ]
    }
   ],
   "source": [
    "cg_its, cg_res, cg_opn, cg_eny = 0, [], [], []\n",
    "uₚ, status = bicgstab(MAM, λfᵤ, x0 = Prec_x_0[1:], tol=1e-7, maxiter = 300, M = QDQ, callback = solver_block_op)\n",
    "print(cg_its, status)"
   ]
  },
  {
   "cell_type": "code",
   "execution_count": 251,
   "id": "5edf5a3c",
   "metadata": {
    "code_folding": [
     0
    ]
   },
   "outputs": [
    {
     "data": {
      "image/png": "[encoded data removed]",
      "text/plain": [
       "<Figure size 1152x144 with 1 Axes>"
      ]
     },
     "metadata": {
      "needs_background": "light"
     },
     "output_type": "display_data"
    },
    {
     "name": "stdout",
     "output_type": "stream",
     "text": [
      "Smallest residual at iteration: 3 (3)\n",
      "Smallest energy at iteration: 1\n"
     ]
    }
   ],
   "source": [
    "# Plots of residual \n",
    "cg_res, cg_opn, cg_eny = asarray(cg_res), asarray(cg_opn), asarray(cg_eny)\n",
    "p = [None, None]\n",
    "plt.figure(figsize=(16,2))\n",
    "plt.ticklabel_format(style='plain', axis='x', useOffset=False)\n",
    "# Plot ℓ² residuals\n",
    "p[0] = plt.plot(cg_res, label = '‖r‖₂')\n",
    "plt.plot(cg_res/norm(λfᵤ), c = p[0][0].get_color(), linestyle='--', label = '‖r‖₂ / ‖λg‖₂')\n",
    "# Plot A-ℓ² residuals\n",
    "p[1] = plt.plot(cg_opn, label = r'$\\| r \\|_{ (\\mathsf{A}_U)_{(2:n)} }$')\n",
    "plt.plot(cg_opn/( (λfᵤ).dot(MAM(λfᵤ)) )**0.5, c = p[1][0].get_color(), linestyle='--', \n",
    "         label = r'$\\| r \\|_{ (\\mathsf{A}_U)_{(2:n)} } / \\| \\lambda g \\|_{ (\\mathsf{A}_U)_{(2:n)} } $')\n",
    "plt.plot(λ * abs(cg_eny), label = 'λ F(xₖ)')\n",
    "plt.yscale('log')\n",
    "plt.axhline(y = 1e-7, linestyle = ':', color = 'black', label = 'Tolerance')\n",
    "plt.legend(ncols = 2)\n",
    "plt.show()\n",
    "print('Smallest residual at iteration: {0} ({1})'.format(np.argmin(cg_res), np.argmin(cg_opn)) )\n",
    "print('Smallest energy at iteration:', np.argmin(cg_eny))"
   ]
  },
  {
   "cell_type": "code",
   "execution_count": 252,
   "id": "8ac07a6c",
   "metadata": {},
   "outputs": [
    {
     "name": "stdout",
     "output_type": "stream",
     "text": [
      "Error against previous solution: 1.64e-16\n",
      "Largest residual (sub-block): 1.38e-15\n",
      "Largest residual (U basis):   1.51e-12\n",
      "Largest residual (original):  1.50e-12\n"
     ]
    }
   ],
   "source": [
    "uₛ = λ * uₚ\n",
    "u = np.concatenate( ([MV_basis_Q_i(ff)[0]], uₛ) )\n",
    "#u = np.concatenate( ([ff.mean()], uₛ) )\n",
    "print('Error against previous solution: {0:.2e}'.format( norm(u - uₒ)/norm(uₒ) ))\n",
    "print('Largest residual (sub-block): {0:.2e}'.format(norm(MAM.dot(uₛ) - MV_basis_Q_i(λ * ff)[1:], np.inf)))\n",
    "print('Largest residual (U basis):   {0:.2e}'.format(norm( MV_basis_Q_i(A.dot(MV_basis_Q(u))) - λ * MV_basis_Q_i(ff), np.inf)))\n",
    "print('Largest residual (original):  {0:.2e}'.format(norm( A.dot(MV_basis_Q(u)) - λ * ff, np.inf)))"
   ]
  },
  {
   "cell_type": "code",
   "execution_count": 253,
   "id": "77987978",
   "metadata": {
    "scrolled": true
   },
   "outputs": [
    {
     "data": {
      "text/plain": [
       "7.084168518729887e-16"
      ]
     },
     "execution_count": 253,
     "metadata": {},
     "output_type": "execute_result"
    }
   ],
   "source": [
    "norm(Q_i_P_Q.T[1:,1:].dot(ff[1:]) - QDQ.T(ff[1:]))/norm(QDQ.T(ff[1:]))"
   ]
  },
  {
   "cell_type": "markdown",
   "id": "192be7f7",
   "metadata": {
    "heading_collapsed": true
   },
   "source": [
    "### Quick test on spreading of eigenvalues"
   ]
  },
  {
   "cell_type": "code",
   "execution_count": 26,
   "id": "ee457422",
   "metadata": {
    "hidden": true
   },
   "outputs": [],
   "source": [
    "λ = 1e-9"
   ]
  },
  {
   "cell_type": "code",
   "execution_count": 41,
   "id": "830deb95",
   "metadata": {
    "hidden": true
   },
   "outputs": [
    {
     "data": {
      "text/plain": [
       "21632910180.411453"
      ]
     },
     "execution_count": 41,
     "metadata": {},
     "output_type": "execute_result"
    }
   ],
   "source": [
    "eigsh(A, k = 1, return_eigenvectors=False).item()/λ"
   ]
  },
  {
   "cell_type": "code",
   "execution_count": 27,
   "id": "a02cb330",
   "metadata": {
    "hidden": true
   },
   "outputs": [],
   "source": [
    "diag_P = (2*μ * η + λ)**-0.5"
   ]
  },
  {
   "cell_type": "code",
   "execution_count": 33,
   "id": "b0014fc4",
   "metadata": {
    "hidden": true
   },
   "outputs": [],
   "source": [
    "PA = np.diag(diag_P,0).dot( np.diag([λ]*nm) + μ * ( np.diag(η) - ANOVA ) ).dot(np.diag(diag_P,0))"
   ]
  },
  {
   "cell_type": "code",
   "execution_count": 34,
   "id": "9a176397",
   "metadata": {
    "hidden": true
   },
   "outputs": [
    {
     "data": {
      "text/plain": [
       "array([3.40053541e-11, 3.85555766e-01, 4.05995721e-01, ...,\n",
       "       5.10940835e-01, 5.13389036e-01, 5.14296736e-01])"
      ]
     },
     "execution_count": 34,
     "metadata": {},
     "output_type": "execute_result"
    }
   ],
   "source": [
    "np.linalg.eigvalsh(PA)"
   ]
  },
  {
   "cell_type": "code",
   "execution_count": 42,
   "id": "1c8c8398",
   "metadata": {
    "hidden": true
   },
   "outputs": [
    {
     "data": {
      "text/plain": [
       "(15123992965.137892, 10.179666466680283)"
      ]
     },
     "execution_count": 42,
     "metadata": {},
     "output_type": "execute_result"
    }
   ],
   "source": [
    "Out[34][-1]/Out[34][0], np.log10(Out[34][-1]/Out[34][0])"
   ]
  },
  {
   "cell_type": "code",
   "execution_count": 45,
   "id": "9e81e4f4",
   "metadata": {
    "hidden": true,
    "scrolled": true
   },
   "outputs": [
    {
     "data": {
      "text/plain": [
       "DescribeResult(nobs=3629, minmax=(0.38555576556621063, 0.5142967360062234), mean=0.5001377790306045, variance=1.3812198284606458e-05, skewness=-20.010648035730227, kurtosis=505.1672644309345)"
      ]
     },
     "execution_count": 45,
     "metadata": {},
     "output_type": "execute_result"
    }
   ],
   "source": [
    "describe(Out[34][1:])"
   ]
  },
  {
   "cell_type": "code",
   "execution_count": 46,
   "id": "f1199e1a",
   "metadata": {
    "hidden": true
   },
   "outputs": [
    {
     "data": {
      "text/plain": [
       "1.3339101160916353"
      ]
     },
     "execution_count": 46,
     "metadata": {},
     "output_type": "execute_result"
    }
   ],
   "source": [
    "Out[34][-1]/Out[34][1]"
   ]
  },
  {
   "cell_type": "markdown",
   "id": "997da148",
   "metadata": {
    "hidden": true
   },
   "source": [
    "---"
   ]
  },
  {
   "cell_type": "markdown",
   "id": "3d9c9a68",
   "metadata": {
    "heading_collapsed": true
   },
   "source": [
    "### Double stochasticity"
   ]
  },
  {
   "cell_type": "markdown",
   "id": "68634523",
   "metadata": {
    "hidden": true
   },
   "source": [
    "Let's use the ASSA algorithm:"
   ]
  },
  {
   "cell_type": "code",
   "execution_count": 298,
   "id": "6a53fd11",
   "metadata": {
    "code_folding": [
     0,
     6
    ],
    "hidden": true
   },
   "outputs": [
    {
     "name": "stdout",
     "output_type": "stream",
     "text": [
      "16 iterations in 0.13 s\n"
     ]
    }
   ],
   "source": [
    "# Compute SK equilibration using ASSA\n",
    "λ = 0    # Find equilibration of unregularised system\n",
    "uₖ = ones(nm)\n",
    "uₖ = (MV_Abs(uₖ))**-0.5\n",
    "\n",
    "start = time.time()            # The following can be time consuming\n",
    "for k in range(29):\n",
    "    vₖ  = (MV_Abs(uₖ))**-1\n",
    "    vₖ *= (MV_Abs(vₖ))**-1\n",
    "    vₖ **= 0.5\n",
    "\n",
    "    # Compute norm for terminal condition in the paper\n",
    "    n_f_tc = norm( np.log(uₖ/vₖ) )\n",
    "    '''print(  '{0:2.5e}   '.format( norm(vₖ) ), end ='')\n",
    "    print(  '{0:2.3e}   '.format(n_f_tc), end ='')\n",
    "    print(  ' {0:2.2e}'.format( norm(vₖ - ûₒ) ) )'''\n",
    "\n",
    "    uₖ  = vₖ\n",
    "\n",
    "    if n_f_tc < 1e-14:\n",
    "        break\n",
    "\n",
    "end = time.time()\n",
    "\n",
    "d = uₖ.copy()\n",
    "\n",
    "SK_time = end - start\n",
    "print('{0} iterations in {1:.2f} s'.format(k, SK_time))"
   ]
  },
  {
   "cell_type": "markdown",
   "id": "9f4a118a",
   "metadata": {
    "hidden": true
   },
   "source": [
    "Notice that the diagonal preconditioner has the effect that $ P_{\\mathsf{d}} \\, \\big( \\lambda \\mathsf{I} + \\mu \\Gamma \\big) \\mathbb{1}_n = \\mathbb{1}_n$, but $P_{\\mathsf{d}} A \\mathbb{1}_n = \\lambda P_{\\mathsf{d}}$.\n",
    "```Python\n",
    "    allclose((np.diag(diag_P).dot(np.diag([λ]*nm) + μ * ANOVA)).sum(1), 1.0)\n",
    " >> True\n",
    "    PA = (np.diag(diag_P).dot( np.diag([λ]*nm) + μ * ( np.diag(η) - ANOVA ) ))\n",
    "    allclose(PA.sum(1), λ * diag_P)\n",
    " >> True\n",
    "```\n",
    "When we run the SK algorithm to obtain a double stochastic matrix from $|A|$, we obtain two diagonal vectors that equilibrate $|A|$ but we then apply these to $A$ as a preconditioner. We might wonder how these two relate."
   ]
  },
  {
   "cell_type": "markdown",
   "id": "ed3bc3ea",
   "metadata": {
    "hidden": true
   },
   "source": [
    "Notice that $ |A| \\mathsf{1}_n = 2\\mu \\eta + \\lambda $, and this is an equilibration by rows.\n",
    "```Python\n",
    "    diag_P = (2*μ * η + λ)**-1\n",
    "    PA = (np.diag(diag_P).dot( np.diag([λ]*nm) + μ * ( np.diag(η) + ANOVA ) ))\n",
    "    allclose(PA.sum(1), 1.0)\n",
    " >> True\n",
    "```"
   ]
  },
  {
   "cell_type": "code",
   "execution_count": 350,
   "id": "c5253ab1",
   "metadata": {
    "hidden": true
   },
   "outputs": [],
   "source": [
    "λ = 1e-9"
   ]
  },
  {
   "cell_type": "code",
   "execution_count": 351,
   "id": "1a47b025",
   "metadata": {
    "hidden": true
   },
   "outputs": [],
   "source": [
    "diag_P = (2*μ * η + λ)**-0.5"
   ]
  },
  {
   "cell_type": "code",
   "execution_count": 352,
   "id": "02ef411f",
   "metadata": {
    "code_folding": [
     0
    ],
    "hidden": true
   },
   "outputs": [
    {
     "data": {
      "image/png": "[encoded data removed]",
      "text/plain": [
       "<Figure size 1224x216 with 1 Axes>"
      ]
     },
     "metadata": {
      "needs_background": "light"
     },
     "output_type": "display_data"
    }
   ],
   "source": [
    "# Difference between the two vectors\n",
    "plt.figure(figsize=(17,3))\n",
    "#plt.plot(d[np.argsort(diag_P)], label = 'SK')\n",
    "#plt.plot(diag_P[np.argsort(diag_P)], label = 'd')\n",
    "plt.plot( abs(d[np.argsort(diag_P)] - diag_P[np.argsort(diag_P)]), label = 'Difference')\n",
    "plt.yscale('log')\n",
    "plt.xticks([])\n",
    "plt.legend()\n",
    "plt.show()"
   ]
  },
  {
   "cell_type": "code",
   "execution_count": 364,
   "id": "57f714bd",
   "metadata": {
    "hidden": true
   },
   "outputs": [],
   "source": [
    "SK_H_A = np.diag(d).dot( np.diag([λ]*nm) + μ * ( np.diag(η) - ANOVA ) )\n",
    "SK_A   = SK_H_A.dot(np.diag(d))"
   ]
  },
  {
   "cell_type": "code",
   "execution_count": 372,
   "id": "48502abb",
   "metadata": {
    "hidden": true
   },
   "outputs": [],
   "source": [
    "Prec_vals_SK_H = eigvals(SK_H_A, check_finite='false')\n",
    "Prec_vals_SK   = eigvalsh( SK_A, check_finite='false')"
   ]
  },
  {
   "cell_type": "code",
   "execution_count": 379,
   "id": "ece422f7",
   "metadata": {
    "hidden": true
   },
   "outputs": [],
   "source": [
    "Prec_vals_SK_H = np.sort(Prec_vals_SK_H.real) if allclose(Prec_vals_SK_H.imag, 0.0) else Exception('')"
   ]
  },
  {
   "cell_type": "code",
   "execution_count": 414,
   "id": "d56487f4",
   "metadata": {
    "hidden": true
   },
   "outputs": [
    {
     "data": {
      "text/latex": [
       "$\\kappa( \\mathsf{A}_U ) = $ 2.13e+10"
      ],
      "text/plain": [
       "<IPython.core.display.Latex object>"
      ]
     },
     "metadata": {},
     "output_type": "display_data"
    },
    {
     "data": {
      "text/latex": [
       "$\\kappa( \\mathrm{diag}(d) \\mathsf{A}_U ) = $ 1.63e+10"
      ],
      "text/plain": [
       "<IPython.core.display.Latex object>"
      ]
     },
     "metadata": {},
     "output_type": "display_data"
    },
    {
     "data": {
      "text/latex": [
       "$\\kappa( \\mathrm{diag}(d) \\mathsf{A}_U \\mathrm{diag}(d) ) = $ 2.27e+10"
      ],
      "text/plain": [
       "<IPython.core.display.Latex object>"
      ]
     },
     "metadata": {},
     "output_type": "display_data"
    }
   ],
   "source": [
    "display(Latex(f'$\\\\kappa( \\\\mathsf{{A}}_U ) = $ ' +'{0:.2e}'.format( (ρ_B+λ)/(λ)  )))\n",
    "display(Latex(f'$\\\\kappa( \\mathrm{{diag}}(d) \\\\mathsf{{A}}_U ) = $ ' +'{0:.2e}'.format( Prec_vals_SK_H[-1] / Prec_vals_SK_H[0]  )))\n",
    "display(Latex(f'$\\\\kappa( \\mathrm{{diag}}(d) \\\\mathsf{{A}}_U \\mathrm{{diag}}(d) ) = $ ' +'{0:.2e}'.format( Prec_vals_SK[-1]/Prec_vals_SK[0]  )))"
   ]
  },
  {
   "cell_type": "markdown",
   "id": "bbb5980d",
   "metadata": {
    "hidden": true
   },
   "source": [
    "Notice that the conjugated matrix actually presents a worse condition number than before, so we will discard it for now. Observe, however, that preconditioning by $d$ on the left actually reduces the condition number a little bit. Let us also recall that taking the square root of $d$ yielded good computational results before. Hence, let's test it:"
   ]
  },
  {
   "cell_type": "code",
   "execution_count": 443,
   "id": "bde024b8",
   "metadata": {
    "hidden": true
   },
   "outputs": [
    {
     "data": {
      "text/latex": [
       "$\\kappa( \\mathrm{diag}(d)^{1/2} \\mathsf{A}_U ) = $ 1.84e+10"
      ],
      "text/plain": [
       "<IPython.core.display.Latex object>"
      ]
     },
     "metadata": {},
     "output_type": "display_data"
    }
   ],
   "source": [
    "SK_H_A = np.diag(d**0.5).dot( np.diag([λ]*nm) + μ * ( np.diag(η) - ANOVA ) )\n",
    "Prec_vals_SK_H = eigvals(SK_H_A, check_finite='false')\n",
    "Prec_vals_SK_H = np.sort(Prec_vals_SK_H.real) if allclose(Prec_vals_SK_H.imag, 0.0) else Exception('')\n",
    "display(Latex(f'$\\\\kappa( \\mathrm{{diag}}(d)^{{1/2}} \\\\mathsf{{A}}_U ) = $ ' +'{0:.2e}'.format( Prec_vals_SK_H[-1] / Prec_vals_SK_H[0]  )))"
   ]
  },
  {
   "cell_type": "markdown",
   "id": "76b2533e",
   "metadata": {
    "hidden": true
   },
   "source": [
    "Let's also test if this happens as well with the approximation from row sums:"
   ]
  },
  {
   "cell_type": "code",
   "execution_count": 400,
   "id": "df035552",
   "metadata": {
    "hidden": true
   },
   "outputs": [],
   "source": [
    "del SK_A\n",
    "SK_A_η  = np.diag(diag_P).dot( np.diag([λ]*nm) + μ * ( np.diag(η) - ANOVA ) )\n",
    "Prec_vals_SK_η  = eigvals( SK_A_η, check_finite='false')"
   ]
  },
  {
   "cell_type": "code",
   "execution_count": 410,
   "id": "fc17b3af",
   "metadata": {
    "hidden": true
   },
   "outputs": [],
   "source": [
    "Prec_vals_SK_η = np.sort(Prec_vals_SK_η.real) if allclose(Prec_vals_SK_η.imag, 0.0) else Exception('')"
   ]
  },
  {
   "cell_type": "code",
   "execution_count": 415,
   "id": "8cd9d065",
   "metadata": {
    "hidden": true
   },
   "outputs": [
    {
     "data": {
      "text/latex": [
       "$\\kappa( \\mathrm{diag}(\\tilde d) \\mathsf{A}_U ) = $ 1.71e+10"
      ],
      "text/plain": [
       "<IPython.core.display.Latex object>"
      ]
     },
     "metadata": {},
     "output_type": "display_data"
    }
   ],
   "source": [
    "display(Latex(f'$\\\\kappa( \\mathrm{{diag}}(\\\\tilde d) \\\\mathsf{{A}}_U ) = $ ' +'{0:.2e}'.format( Prec_vals_SK_η[-1]/Prec_vals_SK_η[0]  )))"
   ]
  },
  {
   "cell_type": "markdown",
   "id": "404ccdb6",
   "metadata": {
    "hidden": true
   },
   "source": [
    "We see that the approximation does also reduce the condition number."
   ]
  },
  {
   "cell_type": "code",
   "execution_count": 445,
   "id": "8ee14378",
   "metadata": {
    "hidden": true
   },
   "outputs": [],
   "source": [
    "del SK_A_η, SK_H_A"
   ]
  },
  {
   "cell_type": "markdown",
   "id": "ed9e1357",
   "metadata": {
    "hidden": true
   },
   "source": [
    "---"
   ]
  },
  {
   "cell_type": "markdown",
   "id": "447699d0",
   "metadata": {
    "hidden": true
   },
   "source": [
    "Now let's test the preconditioners on the subblock $ (\\mathsf{A}_{U})_{ \\{2:n,2:n\\} } $:"
   ]
  },
  {
   "cell_type": "code",
   "execution_count": 456,
   "id": "4daae6ed",
   "metadata": {
    "hidden": true
   },
   "outputs": [],
   "source": [
    "U_t_SK_U   = U.T.dot(np.diag(d)).dot(U)\n",
    "U_t_SK_η_U = U.T.dot(np.diag(diag_P)).dot(U)"
   ]
  },
  {
   "cell_type": "code",
   "execution_count": 457,
   "id": "d1558106",
   "metadata": {
    "hidden": true
   },
   "outputs": [],
   "source": [
    "Lower_block   = U_t_SK_U.dot(UTAU + np.diag([λ]*(nm), 0))[1:,1:]\n",
    "Lower_block_η = (U_t_SK_η_U.dot(UTAU + np.diag([λ]*(nm), 0)).dot(U_t_Pᴿ_U))[1:,1:]"
   ]
  },
  {
   "cell_type": "markdown",
   "id": "fbc60c56",
   "metadata": {
    "hidden": true
   },
   "source": [
    "Once the matrices are assembled, we compute the eigenvalues of the preconditioned subblocks:"
   ]
  },
  {
   "cell_type": "code",
   "execution_count": 458,
   "id": "6218e244",
   "metadata": {
    "hidden": true
   },
   "outputs": [],
   "source": [
    "Prec_vals_SK    = eigvals( Lower_block,   check_finite='false')\n",
    "Prec_vals_SK_η  = eigvals( Lower_block_η, check_finite='false')"
   ]
  },
  {
   "cell_type": "code",
   "execution_count": 459,
   "id": "afecf821",
   "metadata": {
    "hidden": true
   },
   "outputs": [],
   "source": [
    "Prec_vals_SK   = np.sort(Prec_vals_SK.real  ) if allclose(Prec_vals_SK.imag,   0.0) else Exception('')\n",
    "Prec_vals_SK_η = np.sort(Prec_vals_SK_η.real) if allclose(Prec_vals_SK_η.imag, 0.0) else Exception('')"
   ]
  },
  {
   "cell_type": "code",
   "execution_count": 442,
   "id": "b81e2f8c",
   "metadata": {
    "hidden": true
   },
   "outputs": [
    {
     "data": {
      "text/latex": [
       "$\\kappa\\big( (\\mathsf{A}_U)_{ \\{2:n,2:n\\} } \\big) = $ 1.26e+02"
      ],
      "text/plain": [
       "<IPython.core.display.Latex object>"
      ]
     },
     "metadata": {},
     "output_type": "display_data"
    },
    {
     "data": {
      "text/latex": [
       "$\\kappa\\big( \\mathrm{diag}_U (d) (\\mathsf{A}_U)_{ \\{2:n,2:n\\} } \\big) = $ 8.90e+00"
      ],
      "text/plain": [
       "<IPython.core.display.Latex object>"
      ]
     },
     "metadata": {},
     "output_type": "display_data"
    },
    {
     "data": {
      "text/latex": [
       "$\\kappa\\big( \\mathrm{diag}_U (\\tilde d) (\\mathsf{A}_U)_{ \\{2:n,2:n\\} } \\big) = $ 1.44e+00"
      ],
      "text/plain": [
       "<IPython.core.display.Latex object>"
      ]
     },
     "metadata": {},
     "output_type": "display_data"
    },
    {
     "data": {
      "text/latex": [
       "$\\kappa\\big( (P_\\mathsf{d})_U  (\\mathsf{A}_U)_{ \\{2:n,2:n\\} } \\big) = $ 1.38e+00"
      ],
      "text/plain": [
       "<IPython.core.display.Latex object>"
      ]
     },
     "metadata": {},
     "output_type": "display_data"
    }
   ],
   "source": [
    "display(Latex(f'$\\\\kappa\\\\big( (\\\\mathsf{{A}}_U)_{{ \\\\{{2:n,2:n\\\\}} }} \\\\big) ' +\n",
    "              '= $ ' +'{0:.2e}'.format( (ρ_B+λ)/(a_B + λ)  )))\n",
    "display(Latex(f'$\\\\kappa\\\\big( \\mathrm{{diag}}_U (d) (\\\\mathsf{{A}}_U)_{{ \\\\{{2:n,2:n\\\\}} }} \\\\big) = $ ' +\n",
    "              '{0:.2e}'.format( Prec_vals_SK[-1] / Prec_vals_SK[0]  )))\n",
    "display(Latex(f'$\\\\kappa\\\\big( \\mathrm{{diag}}_U (\\\\tilde d) (\\\\mathsf{{A}}_U)_{{ \\\\{{2:n,2:n\\\\}} }} \\\\big) = $ ' +\n",
    "              '{0:.2e}'.format( Prec_vals_SK_η[-1] / Prec_vals_SK_η[0]  )))\n",
    "display(Latex(f'$\\\\kappa\\\\big( (P_\\mathsf{{d}})_U  (\\\\mathsf{{A}}_U)_{{ \\\\{{2:n,2:n\\\\}} }} \\\\big) = $ ' +\n",
    "              '{0:.2e}'.format( Prec_vals.real.max() / Prec_vals.real.min()  )))"
   ]
  },
  {
   "cell_type": "markdown",
   "id": "f206e237",
   "metadata": {
    "hidden": true
   },
   "source": [
    "Actually, in the computational experiments, we tested applying $d$ directly to the system in the new basis, we could try it here as well:"
   ]
  },
  {
   "cell_type": "code",
   "execution_count": 616,
   "id": "118f1ded",
   "metadata": {
    "hidden": true
   },
   "outputs": [],
   "source": [
    "Lower_block   = np.diag(d).dot(UTAU + np.diag([λ]*(nm), 0))[1:,1:]\n",
    "Lower_block_η = np.diag(diag_P).dot(UTAU + np.diag([λ]*(nm), 0))[1:,1:]"
   ]
  },
  {
   "cell_type": "code",
   "execution_count": 617,
   "id": "a09a1ef7",
   "metadata": {
    "hidden": true
   },
   "outputs": [],
   "source": [
    "Prec_vals_SK    = eigvals( Lower_block,   check_finite='false')\n",
    "Prec_vals_SK_η  = eigvals( Lower_block_η, check_finite='false')"
   ]
  },
  {
   "cell_type": "code",
   "execution_count": 618,
   "id": "295cce7f",
   "metadata": {
    "hidden": true
   },
   "outputs": [],
   "source": [
    "Prec_vals_SK   = np.sort(Prec_vals_SK.real  ) if allclose(Prec_vals_SK.imag,   0.0) else Exception('')\n",
    "Prec_vals_SK_η = np.sort(Prec_vals_SK_η.real) if allclose(Prec_vals_SK_η.imag, 0.0) else Exception('')"
   ]
  },
  {
   "cell_type": "code",
   "execution_count": 620,
   "id": "eb27a706",
   "metadata": {
    "hidden": true
   },
   "outputs": [
    {
     "data": {
      "text/latex": [
       "$\\kappa\\big( (\\mathsf{A}_U)_{ \\{2:n,2:n\\} } \\big) = $ 1.26e+02"
      ],
      "text/plain": [
       "<IPython.core.display.Latex object>"
      ]
     },
     "metadata": {},
     "output_type": "display_data"
    },
    {
     "data": {
      "text/latex": [
       "$\\kappa\\big( \\mathrm{diag}_U (d) (\\mathsf{A}_U)_{ \\{2:n,2:n\\} } \\big) = $ 1.01e+01"
      ],
      "text/plain": [
       "<IPython.core.display.Latex object>"
      ]
     },
     "metadata": {},
     "output_type": "display_data"
    },
    {
     "data": {
      "text/latex": [
       "$\\kappa\\big( \\mathrm{diag}_U (\\tilde d) (\\mathsf{A}_U)_{ \\{2:n,2:n\\} } \\big) = $ 1.20e+01"
      ],
      "text/plain": [
       "<IPython.core.display.Latex object>"
      ]
     },
     "metadata": {},
     "output_type": "display_data"
    },
    {
     "data": {
      "text/latex": [
       "$\\kappa\\big( (P_\\mathsf{d})_U  (\\mathsf{A}_U)_{ \\{2:n,2:n\\} } \\big) = $ 1.38e+00"
      ],
      "text/plain": [
       "<IPython.core.display.Latex object>"
      ]
     },
     "metadata": {},
     "output_type": "display_data"
    }
   ],
   "source": [
    "display(Latex(f'$\\\\kappa\\\\big( (\\\\mathsf{{A}}_U)_{{ \\\\{{2:n,2:n\\\\}} }} \\\\big) ' +\n",
    "              '= $ ' +'{0:.2e}'.format( (ρ_B+λ)/(a_B + λ)  )))\n",
    "display(Latex(f'$\\\\kappa\\\\big( \\mathrm{{diag}}_U (d) (\\\\mathsf{{A}}_U)_{{ \\\\{{2:n,2:n\\\\}} }} \\\\big) = $ ' +\n",
    "              '{0:.2e}'.format( Prec_vals_SK[-1] / Prec_vals_SK[0]  )))\n",
    "display(Latex(f'$\\\\kappa\\\\big( \\mathrm{{diag}}_U (\\\\tilde d) (\\\\mathsf{{A}}_U)_{{ \\\\{{2:n,2:n\\\\}} }} \\\\big) = $ ' +\n",
    "              '{0:.2e}'.format( Prec_vals_SK_η[-1] / Prec_vals_SK_η[0]  )))\n",
    "display(Latex(f'$\\\\kappa\\\\big( (P_\\mathsf{{d}})_U  (\\\\mathsf{{A}}_U)_{{ \\\\{{2:n,2:n\\\\}} }} \\\\big) = $ ' +\n",
    "              '{0:.2e}'.format( Prec_vals.real.max() / Prec_vals.real.min()  )))"
   ]
  },
  {
   "cell_type": "markdown",
   "id": "9b45d006",
   "metadata": {
    "hidden": true
   },
   "source": [
    "We observe a little improvement but it is not as much as the diagonal preconditioner itself."
   ]
  },
  {
   "cell_type": "markdown",
   "id": "5082b486",
   "metadata": {
    "hidden": true
   },
   "source": [
    "---"
   ]
  },
  {
   "cell_type": "markdown",
   "id": "681b16bb",
   "metadata": {
    "heading_collapsed": true
   },
   "source": [
    "### A little numerical experiment:"
   ]
  },
  {
   "cell_type": "markdown",
   "id": "66ded406",
   "metadata": {
    "hidden": true
   },
   "source": [
    "Here we can see that replacing the smallest eigenvalue of $A$ with zero in $ \\mathsf{A}_U $ results in a matrix that is almost identical to $A$ itself. We should contrast this analytically."
   ]
  },
  {
   "cell_type": "code",
   "execution_count": 583,
   "id": "e1e9c500",
   "metadata": {
    "hidden": true
   },
   "outputs": [],
   "source": [
    "LA = U.dot( np.diag(np.concatenate( ([0.0], [1]*(nm-1)) )).dot( U_t_A_U) ).dot(U.T)"
   ]
  },
  {
   "cell_type": "code",
   "execution_count": 589,
   "id": "7c248530",
   "metadata": {
    "hidden": true
   },
   "outputs": [
    {
     "data": {
      "text/plain": [
       "DescribeResult(nobs=13176900, minmax=(-0.01473143600142028, 21.23124081582017), mean=-8.294086966137742e-20, variance=0.06428609268800761, skewness=68.30812900706727, kurtosis=4801.907602248433)"
      ]
     },
     "execution_count": 589,
     "metadata": {},
     "output_type": "execute_result"
    }
   ],
   "source": [
    "describe( (U.dot( ( U_t_A_U) ).dot(U.T) ).ravel() )"
   ]
  },
  {
   "cell_type": "code",
   "execution_count": 588,
   "id": "c592bb30",
   "metadata": {
    "hidden": true
   },
   "outputs": [
    {
     "data": {
      "text/plain": [
       "DescribeResult(nobs=13176900, minmax=(-0.01473143600142028, 21.23124081582017), mean=-3.7004906496624304e-20, variance=0.06428609268800761, skewness=68.30812900706727, kurtosis=4801.907602248433)"
      ]
     },
     "execution_count": 588,
     "metadata": {},
     "output_type": "execute_result"
    }
   ],
   "source": [
    "describe(LA.ravel())"
   ]
  },
  {
   "cell_type": "code",
   "execution_count": 591,
   "id": "6bbe51a3",
   "metadata": {
    "hidden": true
   },
   "outputs": [
    {
     "data": {
      "text/plain": [
       "[<matplotlib.lines.Line2D at 0x2fec1cd60>]"
      ]
     },
     "execution_count": 591,
     "metadata": {},
     "output_type": "execute_result"
    },
    {
     "data": {
      "image/png": "[encoded data removed]",
      "text/plain": [
       "<Figure size 432x288 with 1 Axes>"
      ]
     },
     "metadata": {
      "needs_background": "light"
     },
     "output_type": "display_data"
    }
   ],
   "source": [
    "plt.plot(abs((LA - U.dot( ( U_t_A_U) ).dot(U.T) ).ravel()))"
   ]
  },
  {
   "cell_type": "code",
   "execution_count": null,
   "id": "a55bf4ad",
   "metadata": {
    "hidden": true
   },
   "outputs": [],
   "source": []
  },
  {
   "cell_type": "code",
   "execution_count": 129,
   "id": "ed777e2c",
   "metadata": {
    "hidden": true
   },
   "outputs": [],
   "source": [
    "DA = np.diag(λ*ones(nm)) + μ * ( np.diag(η) - ANOVA )"
   ]
  },
  {
   "cell_type": "code",
   "execution_count": 148,
   "id": "f4283c40",
   "metadata": {
    "hidden": true
   },
   "outputs": [],
   "source": [
    "U_t_A_U[0,:] = U_t_A_U[:,0] = 0.0\n",
    "AU = U_t_A_U + np.diag(λ*ones(nm))            # If we wanted to go back: allclose(U.dot( AU ).dot(U.T), DA) "
   ]
  },
  {
   "cell_type": "code",
   "execution_count": 149,
   "id": "21e6f7ed",
   "metadata": {
    "hidden": true
   },
   "outputs": [],
   "source": [
    "AB = U.dot( np.diag(lₛ).dot(AU) ).dot(U.T)    # allclose( AB.dot(ones(nm)), U.dot(lₛ * U.T.dot(A((ones(nm))))) )"
   ]
  },
  {
   "cell_type": "code",
   "execution_count": null,
   "id": "d6704811",
   "metadata": {
    "hidden": true
   },
   "outputs": [],
   "source": [
    "(AB.diagonal() - AB.sum(0)).min()"
   ]
  },
  {
   "cell_type": "code",
   "execution_count": 162,
   "id": "2cb1bf35",
   "metadata": {
    "hidden": true
   },
   "outputs": [
    {
     "data": {
      "text/plain": [
       "DescribeResult(nobs=13306, minmax=(2.0689295741026237e-09, 4.7106795715250166e-05), mean=3.187768326874293e-05, variance=2.1580102512019633e-10, skewness=-0.6190055821352686, kurtosis=-0.9614760475899273)"
      ]
     },
     "execution_count": 162,
     "metadata": {},
     "output_type": "execute_result"
    }
   ],
   "source": [
    "describe(AB[(AB > 0.0) & (AB < AB.diagonal().min())])"
   ]
  },
  {
   "cell_type": "code",
   "execution_count": 168,
   "id": "6c9d5992",
   "metadata": {
    "hidden": true
   },
   "outputs": [
    {
     "data": {
      "text/plain": [
       "[<matplotlib.lines.Line2D at 0x436db1cd0>]"
      ]
     },
     "execution_count": 168,
     "metadata": {},
     "output_type": "execute_result"
    },
    {
     "data": {
      "image/png": "[encoded data removed]",
      "text/plain": [
       "<Figure size 432x288 with 1 Axes>"
      ]
     },
     "metadata": {
      "needs_background": "light"
     },
     "output_type": "display_data"
    }
   ],
   "source": [
    "plt.plot(AB.diagonal() - κ̂ * μ*η)"
   ]
  },
  {
   "cell_type": "code",
   "execution_count": null,
   "id": "f51ad090",
   "metadata": {
    "hidden": true
   },
   "outputs": [],
   "source": []
  },
  {
   "cell_type": "markdown",
   "id": "ae9c8f83",
   "metadata": {
    "heading_collapsed": true
   },
   "source": [
    "# Some speed tests"
   ]
  },
  {
   "cell_type": "code",
   "execution_count": 270,
   "id": "c82b6e06",
   "metadata": {
    "hidden": true
   },
   "outputs": [],
   "source": [
    "from sklearn.metrics.pairwise import euclidean_distances\n",
    "from scipy.spatial.distance   import cdist"
   ]
  },
  {
   "cell_type": "code",
   "execution_count": 271,
   "id": "fc576547",
   "metadata": {
    "hidden": true
   },
   "outputs": [
    {
     "name": "stdout",
     "output_type": "stream",
     "text": [
      "49.8 ms ± 0 ns per loop (mean ± std. dev. of 1 run, 10 loops each)\n"
     ]
    }
   ],
   "source": [
    "%timeit -n 10 -r 1 euclidean_distances(X[:,windows[0]], X[:,windows[0]], squared=True)"
   ]
  },
  {
   "cell_type": "code",
   "execution_count": 272,
   "id": "9837de81",
   "metadata": {
    "hidden": true
   },
   "outputs": [
    {
     "name": "stdout",
     "output_type": "stream",
     "text": [
      "25.2 ms ± 0 ns per loop (mean ± std. dev. of 1 run, 10 loops each)\n"
     ]
    }
   ],
   "source": [
    "%timeit -n 10 -r 1 cdist(X[:,windows[0]], X[:,windows[0]], 'sqeuclidean')"
   ]
  },
  {
   "cell_type": "markdown",
   "id": "8723355e",
   "metadata": {
    "hidden": true
   },
   "source": [
    "Min of off diagonal elements:"
   ]
  },
  {
   "cell_type": "code",
   "execution_count": 273,
   "id": "8df3f983",
   "metadata": {
    "hidden": true
   },
   "outputs": [],
   "source": [
    "xx = cdist(X[:,windows[0]], X[:,windows[0]], 'sqeuclidean')"
   ]
  },
  {
   "cell_type": "code",
   "execution_count": 274,
   "id": "5e05c0e5",
   "metadata": {
    "hidden": true
   },
   "outputs": [
    {
     "name": "stdout",
     "output_type": "stream",
     "text": [
      "22.4 ms ± 457 µs per loop (mean ± std. dev. of 10 runs, 50 loops each)\n",
      "21 ms ± 703 µs per loop (mean ± std. dev. of 10 runs, 50 loops each)\n",
      "2.87 ms ± 50.2 µs per loop (mean ± std. dev. of 10 runs, 50 loops each)\n"
     ]
    }
   ],
   "source": [
    "%timeit -n 50 -r 10 xx[~np.eye(*xx.shape, dtype=bool)].min()\n",
    "%timeit -n 50 -r 10 xx[np.invert(np.eye(nm, dtype=bool))].min()\n",
    "%timeit -n 50 -r 10 as_strided(xx, (nm-1,nm+1), (xx.itemsize*(nm+1), xx.itemsize))[:,1:].min()"
   ]
  },
  {
   "cell_type": "markdown",
   "id": "a595325c",
   "metadata": {
    "hidden": true
   },
   "source": [
    "The following test was done to check how fast some mixed precision computation can be done:"
   ]
  },
  {
   "cell_type": "markdown",
   "id": "a30fa612",
   "metadata": {
    "hidden": true
   },
   "source": [
    "```Python\n",
    "from decimal import Decimal, getcontext\n",
    "getcontext().prec = 30    # Defaults to 28\n",
    "mp.dps = 30\n",
    "pₐ = np.concatenate( ([nm], np.arange(2,nm+1) * np.arange(1,nm) ) ).astype('<f8')\n",
    "\n",
    "%timeit -n 1 -r 1 [mp.power(k, -0.5) for k in pₐ]\n",
    "%timeit -n 1 -r 1 [ Decimal(k)** Decimal('-0.5') for k in pₐ]\n",
    "%timeit -n 1 -r 1 [Decimal(1)/Decimal(k).sqrt() for k in pₐ]\n",
    ">>\n",
    "    1min 48s ± 0 ns per loop (mean ± std. dev. of 1 run, 1 loop each)\n",
    "    20min 51s ± 0 ns per loop (mean ± std. dev. of 1 run, 1 loop each)\n",
    "    57.1 s ± 0 ns per loop (mean ± std. dev. of 1 run, 1 loop each)\n",
    "```"
   ]
  },
  {
   "cell_type": "markdown",
   "id": "e23e429d",
   "metadata": {
    "hidden": true
   },
   "source": [
    "---"
   ]
  }
 ],
 "metadata": {
  "kernelspec": {
   "display_name": "A - Python 3",
   "language": "python",
   "name": "python3"
  },
  "language_info": {
   "codemirror_mode": {
    "name": "ipython",
    "version": 3
   },
   "file_extension": ".py",
   "mimetype": "text/x-python",
   "name": "python",
   "nbconvert_exporter": "python",
   "pygments_lexer": "ipython3",
   "version": "3.10.14"
  },
  "nbTranslate": {
   "displayLangs": [
    "*"
   ],
   "hotkey": "alt-t",
   "langInMainMenu": true,
   "sourceLang": "en",
   "targetLang": "fr",
   "useGoogleTranslate": true
  }
 },
 "nbformat": 4,
 "nbformat_minor": 5
}
